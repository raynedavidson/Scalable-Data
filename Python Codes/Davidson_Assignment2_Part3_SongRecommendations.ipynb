{
 "cells": [
  {
   "cell_type": "code",
   "execution_count": 2,
   "metadata": {},
   "outputs": [
    {
     "data": {
      "text/html": [
       "<style>pre { white-space: pre !important; }table.dataframe td { white-space: nowrap !important; }table.dataframe thead th:first-child, table.dataframe tbody th { display: none; }</style>"
      ],
      "text/plain": [
       "<IPython.core.display.HTML object>"
      ]
     },
     "metadata": {},
     "output_type": "display_data"
    },
    {
     "name": "stdout",
     "output_type": "stream",
     "text": [
      "Help on function start_spark in module __main__:\n",
      "\n",
      "start_spark(executor_instances=2, executor_cores=1, worker_memory=1, master_memory=1)\n",
      "    Start a new Spark session and define globals for SparkSession (spark) and SparkContext (sc).\n",
      "    \n",
      "    Args:\n",
      "        executor_instances (int): number of executors (default: 2)\n",
      "        executor_cores (int): number of cores per executor (default: 1)\n",
      "        worker_memory (float): worker memory (default: 1)\n",
      "        master_memory (float): master memory (default: 1)\n",
      "\n",
      "Help on function stop_spark in module __main__:\n",
      "\n",
      "stop_spark()\n",
      "    Stop the active Spark session and delete globals for SparkSession (spark) and SparkContext (sc).\n",
      "\n",
      "Help on function display_spark in module __main__:\n",
      "\n",
      "display_spark()\n",
      "    Display the status of the active Spark session if one is currently running.\n",
      "\n",
      "Help on function show_as_html in module __main__:\n",
      "\n",
      "show_as_html(df, n=20)\n",
      "    Leverage existing pandas jupyter integration to show a spark dataframe as html.\n",
      "    \n",
      "    Args:\n",
      "        n (int): number of rows to show (default: 20)\n",
      "\n"
     ]
    }
   ],
   "source": [
    "# Run this cell to import pyspark and to define start_spark() and stop_spark()\n",
    "\n",
    "import findspark\n",
    "\n",
    "findspark.init()\n",
    "\n",
    "import getpass\n",
    "import pandas\n",
    "import pyspark\n",
    "import random\n",
    "import re\n",
    "\n",
    "from IPython.display import display, HTML\n",
    "from pyspark import SparkContext\n",
    "from pyspark.sql import SparkSession\n",
    "\n",
    "\n",
    "# Functions used below\n",
    "\n",
    "def username():\n",
    "    \"\"\"Get username with any domain information removed.\n",
    "    \"\"\"\n",
    "\n",
    "    return re.sub('@.*', '', getpass.getuser())\n",
    "\n",
    "\n",
    "def dict_to_html(d):\n",
    "    \"\"\"Convert a Python dictionary into a two column table for display.\n",
    "    \"\"\"\n",
    "\n",
    "    html = []\n",
    "\n",
    "    html.append(f'<table width=\"100%\" style=\"width:100%; font-family: monospace;\">')\n",
    "    for k, v in d.items():\n",
    "        html.append(f'<tr><td style=\"text-align:left;\">{k}</td><td>{v}</td></tr>')\n",
    "    html.append(f'</table>')\n",
    "\n",
    "    return ''.join(html)\n",
    "\n",
    "\n",
    "def show_as_html(df, n=20):\n",
    "    \"\"\"Leverage existing pandas jupyter integration to show a spark dataframe as html.\n",
    "    \n",
    "    Args:\n",
    "        n (int): number of rows to show (default: 20)\n",
    "    \"\"\"\n",
    "\n",
    "    display(df.limit(n).toPandas())\n",
    "\n",
    "    \n",
    "def display_spark():\n",
    "    \"\"\"Display the status of the active Spark session if one is currently running.\n",
    "    \"\"\"\n",
    "    \n",
    "    if 'spark' in globals() and 'sc' in globals():\n",
    "\n",
    "        name = sc.getConf().get(\"spark.app.name\")\n",
    "        \n",
    "        html = [\n",
    "            f'<p><b>Spark</b></p>',\n",
    "            f'<p>The spark session is <b><span style=\"color:green\">active</span></b>, look for <code>{name}</code> under the running applications section in the Spark UI.</p>',\n",
    "            f'<ul>',\n",
    "            f'<li><a href=\"http://mathmadslinux2p.canterbury.ac.nz:8080/\" target=\"_blank\">Spark UI</a></li>',\n",
    "            f'<li><a href=\"{sc.uiWebUrl}\" target=\"_blank\">Spark Application UI</a></li>',\n",
    "            f'</ul>',\n",
    "            f'<p><b>Config</b></p>',\n",
    "            dict_to_html(dict(sc.getConf().getAll())),\n",
    "            f'<p><b>Notes</b></p>',\n",
    "            f'<ul>',\n",
    "            f'<li>The spark session <code>spark</code> and spark context <code>sc</code> global variables have been defined by <code>start_spark()</code>.</li>',\n",
    "            f'<li>Please run <code>stop_spark()</code> before closing the notebook or restarting the kernel or kill <code>{name}</code> by hand using the link in the Spark UI.</li>',\n",
    "            f'</ul>',\n",
    "        ]\n",
    "        display(HTML(''.join(html)))\n",
    "        \n",
    "    else:\n",
    "        \n",
    "        html = [\n",
    "            f'<p><b>Spark</b></p>',\n",
    "            f'<p>The spark session is <b><span style=\"color:red\">stopped</span></b>, confirm that <code>{username() + \" (jupyter)\"}</code> is under the completed applications section in the Spark UI.</p>',\n",
    "            f'<ul>',\n",
    "            f'<li><a href=\"http://mathmadslinux2p.canterbury.ac.nz:8080/\" target=\"_blank\">Spark UI</a></li>',\n",
    "            f'</ul>',\n",
    "        ]\n",
    "        display(HTML(''.join(html)))\n",
    "\n",
    "\n",
    "# Functions to start and stop spark\n",
    "\n",
    "def start_spark(executor_instances=2, executor_cores=1, worker_memory=1, master_memory=1):\n",
    "    \"\"\"Start a new Spark session and define globals for SparkSession (spark) and SparkContext (sc).\n",
    "    \n",
    "    Args:\n",
    "        executor_instances (int): number of executors (default: 2)\n",
    "        executor_cores (int): number of cores per executor (default: 1)\n",
    "        worker_memory (float): worker memory (default: 1)\n",
    "        master_memory (float): master memory (default: 1)\n",
    "    \"\"\"\n",
    "\n",
    "    global spark\n",
    "    global sc\n",
    "\n",
    "    user = username()\n",
    "    \n",
    "    cores = executor_instances * executor_cores\n",
    "    partitions = cores * 4\n",
    "    port = 4000 + random.randint(1, 999)\n",
    "\n",
    "    spark = (\n",
    "        SparkSession.builder\n",
    "        .master(\"spark://masternode2:7077\")\n",
    "        .config(\"spark.driver.extraJavaOptions\", f\"-Dderby.system.home=/tmp/{user}/spark/\")\n",
    "        .config(\"spark.dynamicAllocation.enabled\", \"false\")\n",
    "        .config(\"spark.executor.instances\", str(executor_instances))\n",
    "        .config(\"spark.executor.cores\", str(executor_cores))\n",
    "        .config(\"spark.cores.max\", str(cores))\n",
    "        .config(\"spark.executor.memory\", f\"{worker_memory}g\")\n",
    "        .config(\"spark.driver.memory\", f\"{master_memory}g\")\n",
    "        .config(\"spark.driver.maxResultSize\", \"0\")\n",
    "        .config(\"spark.sql.shuffle.partitions\", str(partitions))\n",
    "        .config(\"spark.ui.port\", str(port))\n",
    "        .appName(user + \" (jupyter)\")\n",
    "        .getOrCreate()\n",
    "    )\n",
    "    sc = SparkContext.getOrCreate()\n",
    "    \n",
    "    display_spark()\n",
    "\n",
    "    \n",
    "def stop_spark():\n",
    "    \"\"\"Stop the active Spark session and delete globals for SparkSession (spark) and SparkContext (sc).\n",
    "    \"\"\"\n",
    "\n",
    "    global spark\n",
    "    global sc\n",
    "\n",
    "    if 'spark' in globals() and 'sc' in globals():\n",
    "\n",
    "        spark.stop()\n",
    "\n",
    "        del spark\n",
    "        del sc\n",
    "\n",
    "    display_spark()\n",
    "\n",
    "\n",
    "# Make css changes to improve spark output readability\n",
    "\n",
    "html = [\n",
    "    '<style>',\n",
    "    'pre { white-space: pre !important; }',\n",
    "    'table.dataframe td { white-space: nowrap !important; }',\n",
    "    'table.dataframe thead th:first-child, table.dataframe tbody th { display: none; }',\n",
    "    '</style>',\n",
    "]\n",
    "display(HTML(''.join(html)))\n",
    "\n",
    "\n",
    "# Print function docstrings\n",
    "\n",
    "help(start_spark)\n",
    "help(stop_spark)\n",
    "help(display_spark)\n",
    "help(show_as_html)"
   ]
  },
  {
   "cell_type": "code",
   "execution_count": 3,
   "metadata": {},
   "outputs": [
    {
     "data": {
      "text/html": [
       "<p><b>Spark</b></p><p>The spark session is <b><span style=\"color:green\">active</span></b>, look for <code>mda205 (jupyter)</code> under the running applications section in the Spark UI.</p><ul><li><a href=\"http://mathmadslinux2p.canterbury.ac.nz:8080/\" target=\"_blank\">Spark UI</a></li><li><a href=\"http://mathmadslinux2p.canterbury.ac.nz:4198\" target=\"_blank\">Spark Application UI</a></li></ul><p><b>Config</b></p><table width=\"100%\" style=\"width:100%; font-family: monospace;\"><tr><td style=\"text-align:left;\">spark.sql.shuffle.partitions</td><td>64</td></tr><tr><td style=\"text-align:left;\">spark.dynamicAllocation.enabled</td><td>false</td></tr><tr><td style=\"text-align:left;\">spark.executor.instances</td><td>4</td></tr><tr><td style=\"text-align:left;\">spark.driver.port</td><td>40215</td></tr><tr><td style=\"text-align:left;\">spark.sql.warehouse.dir</td><td>file:/users/home/mda205/DATA420%20Assignment%202/spark-warehouse</td></tr><tr><td style=\"text-align:left;\">spark.master</td><td>spark://masternode2:7077</td></tr><tr><td style=\"text-align:left;\">spark.cores.max</td><td>16</td></tr><tr><td style=\"text-align:left;\">spark.executor.id</td><td>driver</td></tr><tr><td style=\"text-align:left;\">spark.driver.host</td><td>mathmadslinux2p.canterbury.ac.nz</td></tr><tr><td style=\"text-align:left;\">spark.executor.cores</td><td>4</td></tr><tr><td style=\"text-align:left;\">spark.driver.extraJavaOptions</td><td>-Dderby.system.home=/tmp/mda205/spark/</td></tr><tr><td style=\"text-align:left;\">spark.ui.port</td><td>4198</td></tr><tr><td style=\"text-align:left;\">spark.app.startTime</td><td>1686276775364</td></tr><tr><td style=\"text-align:left;\">spark.app.name</td><td>mda205 (jupyter)</td></tr><tr><td style=\"text-align:left;\">spark.rdd.compress</td><td>True</td></tr><tr><td style=\"text-align:left;\">spark.driver.memory</td><td>8g</td></tr><tr><td style=\"text-align:left;\">spark.serializer.objectStreamReset</td><td>100</td></tr><tr><td style=\"text-align:left;\">spark.driver.maxResultSize</td><td>0</td></tr><tr><td style=\"text-align:left;\">spark.app.id</td><td>app-20230609141257-0518</td></tr><tr><td style=\"text-align:left;\">spark.executor.memory</td><td>8g</td></tr><tr><td style=\"text-align:left;\">spark.submit.pyFiles</td><td></td></tr><tr><td style=\"text-align:left;\">spark.submit.deployMode</td><td>client</td></tr><tr><td style=\"text-align:left;\">spark.ui.showConsoleProgress</td><td>true</td></tr></table><p><b>Notes</b></p><ul><li>The spark session <code>spark</code> and spark context <code>sc</code> global variables have been defined by <code>start_spark()</code>.</li><li>Please run <code>stop_spark()</code> before closing the notebook or restarting the kernel or kill <code>mda205 (jupyter)</code> by hand using the link in the Spark UI.</li></ul>"
      ],
      "text/plain": [
       "<IPython.core.display.HTML object>"
      ]
     },
     "metadata": {},
     "output_type": "display_data"
    }
   ],
   "source": [
    "# Run this cell to start a spark session in this notebook\n",
    "\n",
    "start_spark(executor_instances=4, executor_cores=4, worker_memory=8, master_memory=8)"
   ]
  },
  {
   "cell_type": "code",
   "execution_count": 4,
   "metadata": {},
   "outputs": [],
   "source": [
    "# Write your imports and code here or insert cells below\n",
    "\n",
    "from pyspark.sql import Row, DataFrame, Window, functions as F\n",
    "from pyspark.sql.types import *\n",
    "\n",
    "from pyspark.ml.classification import LogisticRegression\n",
    "from pyspark.ml.evaluation import BinaryClassificationEvaluator\n",
    "from pyspark.ml.feature import VectorAssembler\n",
    "from pyspark.ml.stat import Correlation\n",
    "from pyspark.ml.feature import StandardScaler\n",
    "from pyspark.ml.classification import RandomForestClassifier\n",
    "from pyspark.ml.classification import GBTClassifier\n",
    "from pyspark.ml.tuning import ParamGridBuilder, CrossValidator\n",
    "from pyspark.ml.evaluation import MulticlassClassificationEvaluator\n",
    "from pyspark.mllib.evaluation import MulticlassMetrics\n",
    "\n",
    "\n",
    "from pyspark.ml.linalg import Vectors\n",
    "from pyspark.ml.stat import Correlation\n",
    "\n",
    "from pyspark.ml.evaluation import RankingEvaluator\n",
    "from pyspark.ml.recommendation import ALS\n",
    "\n",
    "import json\n",
    "import numpy as np\n",
    "\n",
    "from pretty import SparkPretty  # download pretty.py from LEARN and put it in your M:\\ or home directory\n",
    "pretty = SparkPretty(limit=5)\n",
    "\n",
    "import pandas as pd\n",
    "\n",
    "import matplotlib.pyplot as plt\n",
    "# %matplotlib notebook\n",
    "\n",
    "from pyspark_dist_explore import hist\n",
    "from IPython.display import display, HTML, display_html #usefull to display wide tables\n",
    "from pyspark_dist_explore import Histogram, hist, distplot, pandas_histogram\n",
    "from pyspark.sql import Row\n",
    "\n",
    "import seaborn as sns\n",
    "\n",
    "from pyspark.ml.evaluation import RegressionEvaluator\n",
    "from pyspark.ml.recommendation import ALS\n",
    "from pyspark.ml.feature import StringIndexer\n",
    "from pyspark.ml import Pipeline\n",
    "from pyspark.sql.functions import col # i cant explain why i am cranky about col but i am"
   ]
  },
  {
   "cell_type": "code",
   "execution_count": 5,
   "metadata": {},
   "outputs": [],
   "source": [
    "def savefile(filename, tablename):\n",
    "\n",
    "    name = \"mda205\"\n",
    "\n",
    "    data_path = f\"hdfs:///user/{name}/outputs/{filename}/\"\n",
    "\n",
    "\n",
    "    tablename.write.mode(\"overwrite\").csv(data_path)\n",
    "    \n",
    "    (tablename.write\n",
    "        .option(\"compression\", \"gzip\")\n",
    "        .mode(\"overwrite\")\n",
    "        .csv(data_path))"
   ]
  },
  {
   "cell_type": "code",
   "execution_count": 6,
   "metadata": {},
   "outputs": [],
   "source": [
    "# Helper functions\n",
    "\n",
    "def print_class_balance(data, name):\n",
    "    \"\"\"\n",
    "    \"\"\"\n",
    "\n",
    "    total = data.count()\n",
    "    counts = data.groupBy(\"label\").count().toPandas()\n",
    "    counts[\"ratio\"] = counts[\"count\"] / total\n",
    "\n",
    "    print(f'dataset: {name}')\n",
    "    print(f'total:   {total}')\n",
    "    print(f'counts:')\n",
    "    print(counts)\n",
    "    print(f'')\n",
    "\n",
    "    \n",
    "def with_custom_prediction(pred, threshold, probabilityCol=\"probability\", customPredictionCol=\"customPrediction\"):\n",
    "    \"\"\"\n",
    "    \"\"\"\n",
    "\n",
    "    apply_custom_threshold_udf = F.udf(lambda x: int(x[1] > threshold), IntegerType())\n",
    "\n",
    "    return pred.withColumn(customPredictionCol, apply_custom_threshold_udf(F.col(probabilityCol)))\n",
    "\n",
    "\n",
    "def print_metrics(pred, threshold=0.5, labelCol=\"label\", predictionCol=\"prediction\", rawPredictionCol=\"rawPrediction\", probabilityCol=\"probability\"):\n",
    "    \"\"\"\n",
    "    \"\"\"\n",
    "\n",
    "    if threshold != 0.5:\n",
    "\n",
    "        predictionCol = \"customPrediction\"\n",
    "        pred = with_custom_prediction(pred, threshold, probabilityCol=probabilityCol, customPredictionCol=predictionCol)\n",
    "\n",
    "    total = pred.count()\n",
    "\n",
    "    nP_actual = pred.filter((F.col(labelCol) == 1)).count()\n",
    "    nN_actual = pred.filter((F.col(labelCol) == 0)).count()\n",
    "\n",
    "    nP = pred.filter((F.col(predictionCol) == 1)).count()\n",
    "    nN = pred.filter((F.col(predictionCol) == 0)).count()\n",
    "    TP = pred.filter((F.col(predictionCol) == 1) & (F.col(labelCol) == 1)).count()\n",
    "    FP = pred.filter((F.col(predictionCol) == 1) & (F.col(labelCol) == 0)).count()\n",
    "    FN = pred.filter((F.col(predictionCol) == 0) & (F.col(labelCol) == 1)).count()\n",
    "    TN = pred.filter((F.col(predictionCol) == 0) & (F.col(labelCol) == 0)).count()\n",
    "\n",
    "    if TP + FP > 0:\n",
    "        precision = TP / (TP + FP)\n",
    "    else:\n",
    "        precision = 0\n",
    "        \n",
    "    recall = TP / (TP + FN)\n",
    "    accuracy = (TP + TN) / total\n",
    "\n",
    "    binary_evaluator = BinaryClassificationEvaluator(rawPredictionCol=rawPredictionCol, labelCol=labelCol, metricName='areaUnderROC')\n",
    "    auroc = binary_evaluator.evaluate(pred)\n",
    "\n",
    "    print(f'metrics for custom threshold')\n",
    "    print(f'')\n",
    "    print(f'threshold: {threshold}')\n",
    "    print(f'')\n",
    "    print(f'total:     {total}')\n",
    "    print(f'')\n",
    "    print(f'nP actual: {nP_actual}')\n",
    "    print(f'nN actual: {nN_actual}')\n",
    "    print(f'')\n",
    "    print(f'nP:        {nP}')\n",
    "    print(f'nN:        {nN}')\n",
    "    print(f'')\n",
    "    print(f'TP         {TP}')\n",
    "    print(f'FP         {FP}')\n",
    "    print(f'FN         {FN}')\n",
    "    print(f'TN         {TN}')\n",
    "    print(f'')\n",
    "    print(f'precision: {precision:.8f}')\n",
    "    print(f'recall:    {recall:.8f}')\n",
    "    print(f'accuracy:  {accuracy:.8f}')\n",
    "    print(f'')\n",
    "    print(f'auroc:     {auroc:.8f}')\n",
    "    print(f'')\n",
    "    \n",
    "    \n",
    "# Other imports to be used locally\n",
    "\n",
    "import datetime\n",
    "\n",
    "import matplotlib as mpl\n",
    "import matplotlib.pyplot as plt\n",
    "import numpy as np\n",
    "import scipy as sp\n",
    "import pandas as pd\n",
    "\n",
    "# %matplotlib notebook\n",
    "\n",
    "np.set_printoptions(edgeitems=5, threshold=100, precision=4)\n",
    "\n",
    "\n",
    "def expand(x, s=0.05, d=0):\n",
    "    \"\"\"Expand a two element array about its center point by a relative scale or a fixed offset.\n",
    "    Args:\n",
    "        x (list|np.array): two element array\n",
    "        s (float): relative scale to expand array based on its width x[1] - x[0]\n",
    "        d (float): fixed offset to expand array\n",
    "    Returns:\n",
    "        x (np.array): expanded two element array\n",
    "    \"\"\"\n",
    "    x = np.array(x)\n",
    "    d = d + s * (x[1] - x[0])\n",
    "    return x + np.array([-d, d])\n",
    "\n",
    "\n",
    "# Helper functions\n",
    "\n",
    "def evaluate_metrics_and_cost_local(pred_local, threshold, FP_cost, FN_cost, labelCol=\"label\", predictionCol=\"customPrediction\", rawPredictionCol=\"rawPrediction\", probabilityCol=\"probability\"):\n",
    "    \"\"\"\n",
    "    \"\"\"\n",
    "\n",
    "    pred_local[predictionCol] = (pred_local[probabilityCol].apply(lambda x: x[1]) > threshold).astype(int)\n",
    "\n",
    "    total = pred_local.shape[0]\n",
    "\n",
    "    nP_actual = (pred_local[labelCol] == 1).sum()\n",
    "    nN_actual = (pred_local[labelCol] == 0).sum()\n",
    "\n",
    "    nP = ((pred_local[predictionCol] == 1)).sum()\n",
    "    nN = ((pred_local[predictionCol] == 0)).sum()\n",
    "    TP = ((pred_local[predictionCol] == 1) & (pred_local[labelCol] == 1)).sum()\n",
    "    FP = ((pred_local[predictionCol] == 1) & (pred_local[labelCol] == 0)).sum()\n",
    "    FN = ((pred_local[predictionCol] == 0) & (pred_local[labelCol] == 1)).sum()\n",
    "    TN = ((pred_local[predictionCol] == 0) & (pred_local[labelCol] == 0)).sum()\n",
    "\n",
    "    if TP + FP > 0:\n",
    "        precision = TP / (TP + FP)\n",
    "    else:\n",
    "        precision = 0\n",
    "        \n",
    "    recall = TP / (TP + FN)\n",
    "    accuracy = (TP + TN) / total\n",
    "\n",
    "    cost_total = FP_cost * FP + FN_cost * FN\n",
    "\n",
    "    return precision, recall, accuracy, cost_total"
   ]
  },
  {
   "cell_type": "code",
   "execution_count": 7,
   "metadata": {},
   "outputs": [],
   "source": [
    "# Dataset names and attribute type mapping\n",
    "\n",
    "attributes_path = 'hdfs:///data/msd/audio/attributes/'\n",
    "\n",
    "hadoop = sc._jvm.org.apache.hadoop\n",
    "fs = hadoop.fs.FileSystem\n",
    "conf = hadoop.conf.Configuration()\n",
    "path = hadoop.fs.Path(attributes_path)\n",
    "getfile=fs.get(conf).listStatus(path)\n",
    "\n",
    "datasets=[]\n",
    "modified_filenames=[]\n",
    "\n",
    "for f in getfile:\n",
    "    \n",
    "    filename = f.getPath().getName()\n",
    "    datasets.append(filename[:-15])\n",
    "    \n",
    "    mod_filename = filename.replace(\"-\",\"_\")\n",
    "    modified_filenames.append(mod_filename[:-17])\n",
    "    \n",
    "\n",
    "lookup = {\n",
    "    'real': DoubleType(),\n",
    "    'NUMERIC': DoubleType(),\n",
    "    'float': DoubleType(),\n",
    "    'string': StringType(),\n",
    "    'STRING': StringType(),\n",
    "}\n",
    "\n",
    "\n",
    "# Choose a dataset name, load attribute names, and define schemas based on attribute names\n",
    "\n",
    "def SingleDataset(dataname):\n",
    "\n",
    "    name = f'{dataname}'\n",
    "\n",
    "    metadata_schema = StructType([\n",
    "        StructField(\"name\", StringType()),\n",
    "        StructField(\"type\", StringType())])\n",
    "\n",
    "    metadata = spark.read.csv(f'/data/msd/audio/attributes/{name}.attributes.csv', schema=metadata_schema)\n",
    "\n",
    "    schema_actual = StructType([\n",
    "        StructField(name, lookup[typename], True) for name, typename in metadata.collect()])\n",
    "\n",
    "    SingleData = spark.read.csv(f'/data/msd/audio/features/{name}.csv', \n",
    "                                schema=schema_actual, quote=\"'\").withColumnRenamed(schema_actual[-1].name, \"track_id\")\n",
    "    \n",
    "    def DFCounts(name, df):\n",
    "        print(name+\" has:\")\n",
    "        print(f\"{len(df.columns)} columns\")\n",
    "        print(f\"{df.count()} rows\")\n",
    "        df=df.select((F.countDistinct(\"track_id\")).alias(\"total unique songs\"))\n",
    "        df.show()\n",
    "    \n",
    "    counts = lambda : DFCounts(name, SingleData)\n",
    "    \n",
    "    return SingleData, counts"
   ]
  },
  {
   "cell_type": "code",
   "execution_count": 8,
   "metadata": {},
   "outputs": [],
   "source": [
    "# !hdfs dfs -ls -h hdfs:///data/msd/tasteprofile"
   ]
  },
  {
   "cell_type": "code",
   "execution_count": 9,
   "metadata": {},
   "outputs": [],
   "source": [
    "mismatches_schema = StructType([\n",
    "    StructField(\"song_id\", StringType(), True),\n",
    "    StructField(\"song_artist\", StringType(), True),\n",
    "    StructField(\"song_title\", StringType(), True),\n",
    "    StructField(\"track_id\", StringType(), True),\n",
    "    StructField(\"track_artist\", StringType(), True),\n",
    "    StructField(\"track_title\", StringType(), True)\n",
    "])\n",
    "\n",
    "path = \"/scratch-network/courses/2023/DATA420-23S1/data/msd/tasteprofile/mismatches/sid_matches_manually_accepted.txt\"\n",
    "with open(path, \"r\") as f:\n",
    "    lines = f.readlines()\n",
    "    sid_matches_manually_accepted = []\n",
    "    for line in lines:\n",
    "        if line.startswith(\"< ERROR: \"):\n",
    "            a = line[10:28]\n",
    "            b = line[29:47]\n",
    "            c, d = line[49:-1].split(\"  !=  \")\n",
    "            e, f = c.split(\"  -  \")\n",
    "            g, h = d.split(\"  -  \")\n",
    "            sid_matches_manually_accepted.append((a, e, f, b, g, h))\n",
    "\n",
    "matches_manually_accepted = spark.createDataFrame(sc.parallelize(sid_matches_manually_accepted, 8), schema=mismatches_schema)\n",
    "# show_as_html(matches_manually_accepted)\n",
    "\n",
    "path = \"/scratch-network/courses/2023/DATA420-23S1/data/msd/tasteprofile/mismatches/sid_mismatches.txt\"\n",
    "with open(path, \"r\") as f:\n",
    "    lines = f.readlines()\n",
    "    sid_mismatches = []\n",
    "    for line in lines:\n",
    "        if line.startswith(\"ERROR: \"):\n",
    "            a = line[8:26]\n",
    "            b = line[27:45]\n",
    "            c, d = line[47:-1].split(\"  !=  \")\n",
    "            e, f = c.split(\"  -  \")\n",
    "            g, h = d.split(\"  -  \")\n",
    "            sid_mismatches.append((a, e, f, b, g, h))\n",
    "\n",
    "mismatches = spark.createDataFrame(sc.parallelize(sid_mismatches, 64), schema=mismatches_schema)\n",
    "# show_as_html(mismatches)"
   ]
  },
  {
   "cell_type": "code",
   "execution_count": 10,
   "metadata": {},
   "outputs": [],
   "source": [
    "# Load and parse triplets in spark\n",
    "\n",
    "triplets_schema = StructType([\n",
    "    StructField(\"user_id\", StringType(), True),\n",
    "    StructField(\"song_id\", StringType(), True),\n",
    "    StructField(\"plays\", IntegerType(), True)\n",
    "])\n",
    "triplets = (\n",
    "    spark.read.format(\"csv\")\n",
    "    .option(\"header\", \"false\")\n",
    "    .option(\"delimiter\", \"\\t\")\n",
    "    .option(\"codec\", \"gzip\")\n",
    "    .schema(triplets_schema)\n",
    "    .load(\"hdfs:///data/msd/tasteprofile/triplets.tsv/\")\n",
    "    .cache()\n",
    ")"
   ]
  },
  {
   "cell_type": "code",
   "execution_count": 11,
   "metadata": {},
   "outputs": [],
   "source": [
    "# Anti join mismatches to manually accepted, and anti join the remaining mismatches to triplets\n",
    "\n",
    "mismatches_not_accepted = mismatches.join(matches_manually_accepted, on=\"song_id\", how=\"left_anti\")\n",
    "triplets_not_mismatched = triplets.join(mismatches_not_accepted, on=\"song_id\", how=\"left_anti\")"
   ]
  },
  {
   "cell_type": "code",
   "execution_count": null,
   "metadata": {},
   "outputs": [],
   "source": [
    "print(f\"matches_manually_accepted = {matches_manually_accepted.count()}\")\n",
    "print(f\"mismatches                = {mismatches.count()}\")\n",
    "print(f\"triplets                  = {triplets.count()}\")\n",
    "print(f\"triplets_not_mismatched   = {triplets_not_mismatched.count()}\")"
   ]
  },
  {
   "cell_type": "markdown",
   "metadata": {},
   "source": [
    "## Q1 a & b"
   ]
  },
  {
   "cell_type": "code",
   "execution_count": 12,
   "metadata": {},
   "outputs": [],
   "source": [
    "uniques=(triplets.select(\n",
    "    ((F.countDistinct(\"song_id\")).alias(\"total_unique_songs\")), \n",
    "    (F.countDistinct(\"user_id\")).alias(\"total_unique_users\")))"
   ]
  },
  {
   "cell_type": "code",
   "execution_count": 13,
   "metadata": {},
   "outputs": [],
   "source": [
    "top_unique_users = (triplets.groupBy(\"user_id\")\n",
    "          .agg(\n",
    "              F.countDistinct(\"song_id\").alias(\"unique_songs\"))\n",
    "              .orderBy(\n",
    "                  F.col(\"unique_songs\")\n",
    "                  .desc()))\n",
    "\n",
    "\n",
    "top_unique_user = top_unique_users.limit(1)"
   ]
  },
  {
   "cell_type": "code",
   "execution_count": 14,
   "metadata": {},
   "outputs": [],
   "source": [
    "top_unique_user_percTotal = (top_unique_user\n",
    "    .select(\n",
    "        F.col(\"user_id\").alias(\"top_user\"), \n",
    "        F.col(\"unique_songs\").alias(\"top_user_unique_songs\"))\n",
    "    .withColumn(\"top_user_percent_of_total_songs\", \n",
    "        ((F.col(\"top_user_unique_songs\") /\n",
    "        uniques.select(F.col(\"total_unique_songs\").cast(\"integer\")).first()[0])*100)))"
   ]
  },
  {
   "cell_type": "code",
   "execution_count": null,
   "metadata": {},
   "outputs": [],
   "source": [
    "# top_users.show()\n",
    "uniques.show(truncate=False)\n",
    "top_unique_user.show(truncate=False)\n",
    "top_unique_user_percTotal.show(truncate=False)"
   ]
  },
  {
   "cell_type": "markdown",
   "metadata": {},
   "source": [
    "## Q1c"
   ]
  },
  {
   "cell_type": "code",
   "execution_count": 15,
   "metadata": {},
   "outputs": [],
   "source": [
    "popularity_distribution=(triplets\n",
    "                         .groupBy(\"song_id\")\n",
    "                         .agg(F.sum(F.col(\"plays\")).alias(\"total_plays\"))\n",
    "                         .withColumn(\"songIndex\", \n",
    "                                     F.row_number().over(Window.orderBy((F.col(\"total_plays\").desc())))))\n",
    "\n",
    "\n",
    "user_activity=(triplets\n",
    "               .groupBy(\"user_id\")\n",
    "               .agg(F.sum(F.col(\"plays\")).alias(\"user_plays\"))\n",
    "               .withColumn(\"userIndex\", \n",
    "                           F.row_number().over(Window.orderBy((F.col(\"user_plays\").desc())))))"
   ]
  },
  {
   "cell_type": "code",
   "execution_count": 16,
   "metadata": {},
   "outputs": [],
   "source": [
    "user_activityPD=user_activity.toPandas()\n",
    "popularity_distributionPD=popularity_distribution.toPandas()"
   ]
  },
  {
   "cell_type": "code",
   "execution_count": 17,
   "metadata": {},
   "outputs": [],
   "source": [
    "popularity_distributionPD['log2_scale_total_plays'] = np.log2(popularity_distributionPD['total_plays'])\n",
    "user_activityPD['log2_scale_user_plays'] = np.log2(user_activityPD['user_plays'])"
   ]
  },
  {
   "cell_type": "code",
   "execution_count": 18,
   "metadata": {},
   "outputs": [
    {
     "data": {
      "image/png": "[encoded data removed]",
      "text/plain": [
       "<Figure size 1170x468 with 1 Axes>"
      ]
     },
     "metadata": {
      "needs_background": "light"
     },
     "output_type": "display_data"
    },
    {
     "data": {
      "image/png": "[encoded data removed]",
      "text/plain": [
       "<Figure size 1170x468 with 1 Axes>"
      ]
     },
     "metadata": {
      "needs_background": "light"
     },
     "output_type": "display_data"
    }
   ],
   "source": [
    "sns.displot(x='log2_scale_user_plays', data=user_activityPD, kde=True, height=6.5, aspect=2.5, color=\"green\")\n",
    "\n",
    "plt.ylabel('Frequency', fontsize=15)\n",
    "plt.title('Distribution of User Activity Measured by Play Count (log2 Scale)', fontsize=20)\n",
    "plt.xlabel(\"Play Count per User (log2 scale)\", fontsize=15)\n",
    "plt.tight_layout()\n",
    "\n",
    "\n",
    "# i couldnt get the actual distribution of this to plot for some reason \n",
    "# so you get it in log 2 and you'll like it because you have no other choice\n",
    "\n",
    "sns.displot(x='log2_scale_total_plays', data=popularity_distributionPD, kde=True, height=6.5, aspect=2.5, color=\"orange\")\n",
    "\n",
    "plt.xlabel('Play Count per Song (log2 scale)', fontsize=15)\n",
    "plt.ylabel('Frequency', fontsize=15)\n",
    "plt.title(\"Distribution of Song Popularity Measured by Play Count (Log2 Scale)\", fontsize=20)\n",
    "plt.tight_layout()"
   ]
  },
  {
   "cell_type": "markdown",
   "metadata": {},
   "source": [
    "## Q1d"
   ]
  },
  {
   "cell_type": "code",
   "execution_count": 19,
   "metadata": {},
   "outputs": [],
   "source": [
    "user_threshold=50 # N\n",
    "song_threshold=50 # M\n",
    "\n",
    "threshold_users_plays = (triplets\n",
    "                         .groupBy(\"user_id\")\n",
    "                         .agg(F.count(\"plays\").alias(\"user_total_plays\"))\n",
    "                         .filter(F.col(\"user_total_plays\")>=user_threshold)\n",
    "                         .join(triplets, on=\"user_id\", how=\"left\"))\n",
    "\n",
    "\n",
    "threshold_data = (threshold_users_plays\n",
    "                  .groupBy(\"song_id\")\n",
    "                  .agg(F.count(\"plays\").alias(\"song_total_plays\"))\n",
    "                  .filter(F.col(\"song_total_plays\")>=song_threshold)\n",
    "                  .join(threshold_users_plays, on=\"song_id\", how=\"left\")\n",
    "                  .drop(\"user_total_plays\", \"song_total_plays\"))\n"
   ]
  },
  {
   "cell_type": "markdown",
   "metadata": {},
   "source": [
    "## Q1e\n",
    "\n",
    "as a personal note, when you say \"the test set should contain at least 25% of the plays in total, \n",
    "it would be helpful to specify if you mean 25% of the total plays or of the plays in the \"clean\" dataset. \n",
    "Not all of us are neurotypical and can read the silent implication \n",
    "(aka i had to give chatgpt you directions and ask it which one i should use. it said the clean data so if thats wrong dont blame me and be more specific)"
   ]
  },
  {
   "cell_type": "code",
   "execution_count": 20,
   "metadata": {
    "scrolled": false
   },
   "outputs": [
    {
     "data": {
      "text/plain": [
       "DataFrame[user_id: string, song_id: string, plays: int]"
      ]
     },
     "execution_count": 20,
     "metadata": {},
     "output_type": "execute_result"
    }
   ],
   "source": [
    "# Simple random splitting\n",
    "\n",
    "training, test_unmatched = threshold_data.randomSplit([0.75, 0.25]) \n",
    "training.cache()\n",
    "test_unmatched.cache()\n",
    "\n",
    "# show_as_html(test_unmatched)\n",
    "test=test_unmatched.join(training, on=\"user_id\", how=\"left_semi\")\n",
    "test.cache()\n",
    "\n",
    "\n",
    "\n",
    "# show_as_html(training)\n",
    "# show_as_html(test)"
   ]
  },
  {
   "cell_type": "code",
   "execution_count": 21,
   "metadata": {},
   "outputs": [
    {
     "name": "stdout",
     "output_type": "stream",
     "text": [
      "# training rows = 21499439\n",
      "# unmatched test rows     = 7168880\n",
      "# matched test rows     = 7168880\n",
      "test lost 0 rows in the matching join\n",
      "\n",
      "test has 25.02% of all plays in threshold_data\n"
     ]
    }
   ],
   "source": [
    "print(f'# training rows = {training.count()}')\n",
    "print(f'# unmatched test rows     = {test_unmatched.count()}')\n",
    "print(f'# matched test rows     = {test.count()}')\n",
    "print(f'test lost {test_unmatched.count()-test.count()} rows in the matching join')\n",
    "print(\"\")\n",
    "\n",
    "\n",
    "test_total_percent = (test.select(F.sum(test.plays).alias(\"test_plays\"))\n",
    "                .withColumn(\"test_plays\", F.col(\"test_plays\").cast(\"integer\"))\n",
    "                .select((F.col(\"test_plays\") / triplets.select(F.sum(triplets.plays).alias(\"all_plays\")).first()[\"all_plays\"]) * 100)\n",
    "                .first()[0])\n",
    "\n",
    "test_threshold_percent = (test.select(F.sum(test.plays).alias(\"test_plays\"))\n",
    "                .withColumn(\"test_plays\", F.col(\"test_plays\").cast(\"integer\"))\n",
    "                .select((F.col(\"test_plays\") / threshold_data.select(F.sum(threshold_data.plays).alias(\"all_plays\")).first()[\"all_plays\"]) * 100)\n",
    "                .first()[0])\n",
    "\n",
    "\n",
    "                \n",
    "# print(f'test has {round(test_total_percent,2)}% of all plays')\n",
    "print(f'test has {round(test_threshold_percent,2)}% of all plays in threshold_data')"
   ]
  },
  {
   "cell_type": "markdown",
   "metadata": {},
   "source": [
    "## Q2\n",
    "### Q2a"
   ]
  },
  {
   "cell_type": "code",
   "execution_count": 22,
   "metadata": {},
   "outputs": [],
   "source": [
    "indexer = [StringIndexer(inputCol=column, outputCol=column+\"_index\") for column in list(set(training.columns)-set(['plays'])) ]\n",
    "pipeline = Pipeline(stages=indexer)\n",
    "transformed_training = pipeline.fit(training).transform(training)\n",
    "transformed_test = pipeline.fit(test).transform(test)"
   ]
  },
  {
   "cell_type": "code",
   "execution_count": 23,
   "metadata": {},
   "outputs": [
    {
     "data": {
      "text/plain": [
       "DataFrame[user_id: string, song_id: string, plays: int, user_id_index: double, song_id_index: double, prediction: float]"
      ]
     },
     "execution_count": 23,
     "metadata": {},
     "output_type": "execute_result"
    }
   ],
   "source": [
    "als = ALS(maxIter=5, regParam=0.01, userCol=\"user_id_index\", itemCol=\"song_id_index\", ratingCol=\"plays\", implicitPrefs=True)\n",
    "alsModel = als.fit(transformed_training)\n",
    "\n",
    "\n",
    "pred = alsModel.transform(transformed_test)\n",
    "pred.cache()"
   ]
  },
  {
   "cell_type": "markdown",
   "metadata": {},
   "source": [
    "### Q2b"
   ]
  },
  {
   "cell_type": "code",
   "execution_count": 24,
   "metadata": {},
   "outputs": [],
   "source": [
    "top_users_inTest = (transformed_test\n",
    "                    .groupBy(\"user_id\")\n",
    "                    .agg(F.count(\"plays\").alias(\"user_total_plays\"))\n",
    "                    .orderBy(F.col(\"user_total_plays\").desc())\n",
    "                    .limit(15)\n",
    "                    .select(F.col(\"user_id\"))\n",
    "                    .join(transformed_test, on=\"user_id\", how=\"left\"))\n",
    "\n",
    "top_user_ids = (top_users_inTest.select(F.col(\"user_id_index\")).dropDuplicates())"
   ]
  },
  {
   "cell_type": "code",
   "execution_count": 28,
   "metadata": {},
   "outputs": [
    {
     "data": {
      "text/plain": [
       "DataFrame[user_id_index: int, recommendations: array<struct<song_id_index:int,rating:float>>]"
      ]
     },
     "execution_count": 28,
     "metadata": {},
     "output_type": "execute_result"
    }
   ],
   "source": [
    "# this was from a Medium article about ALS for recommendations\n",
    "\n",
    "# evaluator=RegressionEvaluator(metricName=\"rmse\",labelCol=\"plays\",predictionCol=\"prediction\")\n",
    "# rmse=evaluator.evaluate(pred)\n",
    "# print(\"RMSE=\"+str(rmse)) \n",
    "# my notes say you cant use RMSE for implicit data so ignore this\n",
    "\n",
    "\n",
    "k = 5\n",
    "recommendations = alsModel.recommendForUserSubset(top_users_inTest, 10)\n",
    "recommendations.cache()"
   ]
  },
  {
   "cell_type": "code",
   "execution_count": 29,
   "metadata": {},
   "outputs": [],
   "source": [
    "# recommendations.show()"
   ]
  },
  {
   "cell_type": "code",
   "execution_count": 30,
   "metadata": {},
   "outputs": [
    {
     "data": {
      "text/plain": [
       "DataFrame[user_id_index: int, recommendations: array<double>, relevant: array<double>]"
      ]
     },
     "execution_count": 30,
     "metadata": {},
     "output_type": "execute_result"
    }
   ],
   "source": [
    "relevant = (\n",
    "    top_users_inTest\n",
    "    .groupBy(\"user_id_index\")\n",
    "    .agg(\n",
    "        F.reverse(F.sort_array(F.collect_list(\n",
    "            F.struct(\n",
    "                F.col(\"plays\"),\n",
    "                F.col(\"song_id_index\")\n",
    "            )))).alias(\"relevant\")))\n",
    "\n",
    "temp = (\n",
    "    recommendations\n",
    "    .select(\n",
    "        F.col(\"user_id_index\"),\n",
    "        F.col(\"recommendations.song_id_index\").alias(\"recommendations\").astype(ArrayType(DoubleType())),\n",
    "    )\n",
    "    .join(\n",
    "        relevant\n",
    "        .select(\n",
    "            F.col(\"user_id_index\"),\n",
    "            F.col(\"relevant.song_id_index\").alias(\"relevant\").astype(ArrayType(DoubleType())),\n",
    "        ),\n",
    "        on=\"user_id_index\",\n",
    "        how=\"inner\"))\n",
    "\n",
    "temp.cache()\n",
    "\n",
    "# show_as_html(temp)"
   ]
  },
  {
   "cell_type": "code",
   "execution_count": 31,
   "metadata": {
    "scrolled": false
   },
   "outputs": [
    {
     "data": {
      "text/html": [
       "<div>\n",
       "<style scoped>\n",
       "    .dataframe tbody tr th:only-of-type {\n",
       "        vertical-align: middle;\n",
       "    }\n",
       "\n",
       "    .dataframe tbody tr th {\n",
       "        vertical-align: top;\n",
       "    }\n",
       "\n",
       "    .dataframe thead th {\n",
       "        text-align: right;\n",
       "    }\n",
       "</style>\n",
       "<table border=\"1\" class=\"dataframe\">\n",
       "  <thead>\n",
       "    <tr style=\"text-align: right;\">\n",
       "      <th></th>\n",
       "      <th>user_id_index</th>\n",
       "      <th>recommendations</th>\n",
       "      <th>relevant</th>\n",
       "      <th>overlap</th>\n",
       "    </tr>\n",
       "  </thead>\n",
       "  <tbody>\n",
       "    <tr>\n",
       "      <th>0</th>\n",
       "      <td>7</td>\n",
       "      <td>[1.0, 0.0, 14.0, 8.0, 16.0, 24.0, 7.0, 27.0, 1...</td>\n",
       "      <td>[804.0, 3358.0, 2052.0, 3102.0, 3431.0, 2058.0...</td>\n",
       "      <td>[]</td>\n",
       "    </tr>\n",
       "    <tr>\n",
       "      <th>1</th>\n",
       "      <td>4</td>\n",
       "      <td>[24.0, 28.0, 12.0, 0.0, 15.0, 62.0, 139.0, 8.0...</td>\n",
       "      <td>[284.0, 415.0, 6739.0, 10389.0, 6494.0, 1168.0...</td>\n",
       "      <td>[8.0]</td>\n",
       "    </tr>\n",
       "    <tr>\n",
       "      <th>2</th>\n",
       "      <td>9</td>\n",
       "      <td>[1.0, 14.0, 48.0, 47.0, 68.0, 33.0, 3.0, 97.0,...</td>\n",
       "      <td>[4418.0, 5027.0, 121.0, 19.0, 2889.0, 484.0, 6...</td>\n",
       "      <td>[47.0, 11.0]</td>\n",
       "    </tr>\n",
       "    <tr>\n",
       "      <th>3</th>\n",
       "      <td>3</td>\n",
       "      <td>[14.0, 24.0, 201.0, 28.0, 11.0, 97.0, 41.0, 62...</td>\n",
       "      <td>[31002.0, 4219.0, 2215.0, 9020.0, 338.0, 20915...</td>\n",
       "      <td>[14.0]</td>\n",
       "    </tr>\n",
       "    <tr>\n",
       "      <th>4</th>\n",
       "      <td>11</td>\n",
       "      <td>[16.0, 14.0, 42.0, 33.0, 47.0, 201.0, 217.0, 3...</td>\n",
       "      <td>[16314.0, 6171.0, 50.0, 9377.0, 333.0, 10739.0...</td>\n",
       "      <td>[]</td>\n",
       "    </tr>\n",
       "    <tr>\n",
       "      <th>5</th>\n",
       "      <td>12</td>\n",
       "      <td>[213.0, 42.0, 318.0, 70.0, 286.0, 402.0, 46.0,...</td>\n",
       "      <td>[13853.0, 10579.0, 5486.0, 7442.0, 23975.0, 85...</td>\n",
       "      <td>[]</td>\n",
       "    </tr>\n",
       "    <tr>\n",
       "      <th>6</th>\n",
       "      <td>1</td>\n",
       "      <td>[47.0, 48.0, 1.0, 14.0, 33.0, 97.0, 134.0, 136...</td>\n",
       "      <td>[7425.0, 3740.0, 18317.0, 4199.0, 8682.0, 112....</td>\n",
       "      <td>[11.0]</td>\n",
       "    </tr>\n",
       "    <tr>\n",
       "      <th>7</th>\n",
       "      <td>14</td>\n",
       "      <td>[41.0, 14.0, 28.0, 24.0, 9.0, 32.0, 76.0, 62.0...</td>\n",
       "      <td>[6270.0, 6368.0, 5961.0, 19060.0, 63835.0, 524...</td>\n",
       "      <td>[]</td>\n",
       "    </tr>\n",
       "    <tr>\n",
       "      <th>8</th>\n",
       "      <td>0</td>\n",
       "      <td>[14.0, 201.0, 97.0, 11.0, 163.0, 136.0, 297.0,...</td>\n",
       "      <td>[77699.0, 75994.0, 73323.0, 67826.0, 62652.0, ...</td>\n",
       "      <td>[]</td>\n",
       "    </tr>\n",
       "    <tr>\n",
       "      <th>9</th>\n",
       "      <td>2</td>\n",
       "      <td>[1.0, 48.0, 136.0, 97.0, 47.0, 68.0, 245.0, 35...</td>\n",
       "      <td>[2639.0, 11420.0, 1462.0, 164.0, 32959.0, 836....</td>\n",
       "      <td>[97.0]</td>\n",
       "    </tr>\n",
       "    <tr>\n",
       "      <th>10</th>\n",
       "      <td>6</td>\n",
       "      <td>[16.0, 15.0, 12.0, 10.0, 67.0, 205.0, 39.0, 40...</td>\n",
       "      <td>[5.0, 1136.0, 24188.0, 216.0, 1085.0, 1278.0, ...</td>\n",
       "      <td>[16.0, 15.0]</td>\n",
       "    </tr>\n",
       "    <tr>\n",
       "      <th>11</th>\n",
       "      <td>13</td>\n",
       "      <td>[1.0, 14.0, 97.0, 201.0, 11.0, 16.0, 217.0, 29...</td>\n",
       "      <td>[1816.0, 21.0, 248.0, 199.0, 901.0, 269.0, 551...</td>\n",
       "      <td>[11.0]</td>\n",
       "    </tr>\n",
       "    <tr>\n",
       "      <th>12</th>\n",
       "      <td>10</td>\n",
       "      <td>[24.0, 62.0, 28.0, 122.0, 139.0, 108.0, 105.0,...</td>\n",
       "      <td>[35761.0, 4095.0, 17822.0, 70216.0, 17429.0, 1...</td>\n",
       "      <td>[]</td>\n",
       "    </tr>\n",
       "    <tr>\n",
       "      <th>13</th>\n",
       "      <td>5</td>\n",
       "      <td>[14.0, 28.0, 42.0, 33.0, 1.0, 16.0, 0.0, 40.0,...</td>\n",
       "      <td>[1719.0, 13835.0, 1080.0, 1072.0, 27630.0, 191...</td>\n",
       "      <td>[0.0]</td>\n",
       "    </tr>\n",
       "    <tr>\n",
       "      <th>14</th>\n",
       "      <td>8</td>\n",
       "      <td>[47.0, 42.0, 213.0, 33.0, 402.0, 134.0, 335.0,...</td>\n",
       "      <td>[17865.0, 13356.0, 155.0, 97.0, 5.0, 23358.0, ...</td>\n",
       "      <td>[33.0, 402.0, 66.0]</td>\n",
       "    </tr>\n",
       "  </tbody>\n",
       "</table>\n",
       "</div>"
      ],
      "text/plain": [
       "    user_id_index                                    recommendations  \\\n",
       "0               7  [1.0, 0.0, 14.0, 8.0, 16.0, 24.0, 7.0, 27.0, 1...   \n",
       "1               4  [24.0, 28.0, 12.0, 0.0, 15.0, 62.0, 139.0, 8.0...   \n",
       "2               9  [1.0, 14.0, 48.0, 47.0, 68.0, 33.0, 3.0, 97.0,...   \n",
       "3               3  [14.0, 24.0, 201.0, 28.0, 11.0, 97.0, 41.0, 62...   \n",
       "4              11  [16.0, 14.0, 42.0, 33.0, 47.0, 201.0, 217.0, 3...   \n",
       "5              12  [213.0, 42.0, 318.0, 70.0, 286.0, 402.0, 46.0,...   \n",
       "6               1  [47.0, 48.0, 1.0, 14.0, 33.0, 97.0, 134.0, 136...   \n",
       "7              14  [41.0, 14.0, 28.0, 24.0, 9.0, 32.0, 76.0, 62.0...   \n",
       "8               0  [14.0, 201.0, 97.0, 11.0, 163.0, 136.0, 297.0,...   \n",
       "9               2  [1.0, 48.0, 136.0, 97.0, 47.0, 68.0, 245.0, 35...   \n",
       "10              6  [16.0, 15.0, 12.0, 10.0, 67.0, 205.0, 39.0, 40...   \n",
       "11             13  [1.0, 14.0, 97.0, 201.0, 11.0, 16.0, 217.0, 29...   \n",
       "12             10  [24.0, 62.0, 28.0, 122.0, 139.0, 108.0, 105.0,...   \n",
       "13              5  [14.0, 28.0, 42.0, 33.0, 1.0, 16.0, 0.0, 40.0,...   \n",
       "14              8  [47.0, 42.0, 213.0, 33.0, 402.0, 134.0, 335.0,...   \n",
       "\n",
       "                                             relevant              overlap  \n",
       "0   [804.0, 3358.0, 2052.0, 3102.0, 3431.0, 2058.0...                   []  \n",
       "1   [284.0, 415.0, 6739.0, 10389.0, 6494.0, 1168.0...                [8.0]  \n",
       "2   [4418.0, 5027.0, 121.0, 19.0, 2889.0, 484.0, 6...         [47.0, 11.0]  \n",
       "3   [31002.0, 4219.0, 2215.0, 9020.0, 338.0, 20915...               [14.0]  \n",
       "4   [16314.0, 6171.0, 50.0, 9377.0, 333.0, 10739.0...                   []  \n",
       "5   [13853.0, 10579.0, 5486.0, 7442.0, 23975.0, 85...                   []  \n",
       "6   [7425.0, 3740.0, 18317.0, 4199.0, 8682.0, 112....               [11.0]  \n",
       "7   [6270.0, 6368.0, 5961.0, 19060.0, 63835.0, 524...                   []  \n",
       "8   [77699.0, 75994.0, 73323.0, 67826.0, 62652.0, ...                   []  \n",
       "9   [2639.0, 11420.0, 1462.0, 164.0, 32959.0, 836....               [97.0]  \n",
       "10  [5.0, 1136.0, 24188.0, 216.0, 1085.0, 1278.0, ...         [16.0, 15.0]  \n",
       "11  [1816.0, 21.0, 248.0, 199.0, 901.0, 269.0, 551...               [11.0]  \n",
       "12  [35761.0, 4095.0, 17822.0, 70216.0, 17429.0, 1...                   []  \n",
       "13  [1719.0, 13835.0, 1080.0, 1072.0, 27630.0, 191...                [0.0]  \n",
       "14  [17865.0, 13356.0, 155.0, 97.0, 5.0, 23358.0, ...  [33.0, 402.0, 66.0]  "
      ]
     },
     "metadata": {},
     "output_type": "display_data"
    },
    {
     "name": "stdout",
     "output_type": "stream",
     "text": [
      "+-------------+------------------------------------------------------------------+-----------------------------------------------------------------------------------------------------------------------------------------------------------------------------------------------------------------------------------------------------------------------------------------------------------------------------------------------------------------------------------------------------------------------------------------------------------------------------------------------------------------------------------------------------------------------------------------------------------------------------------------------------------------------------------------------------------------------------------------------------------------------------------------------------------------------------------------------------------------------------------------------------------------------------------------------------------------------------------------------------------------------------------------------------------------------------------------------------------------------------------------------------------------------------------------------------------------------------------------------------------------------------------------------------------------------------------------------------------------------------------------------------------------------------------------------------------------------------------------------------------------------------------------------------------------------------------------------------------------------------------------------------------------------------------------------------------------------------------------------------------------------------------------------------------------------------------------------------------------------------------------------------------------------------------------------------------------------------------------------------------------------------------------------------------------------------------------------------------------------------------------------------------------------------------------------------------------------------------------------------------------------------------------------------------------------------------------------------------------------------------------------------------------------------------------------------------------------------------------------------------------------------------------------------------------------------------------------------------------------------------------------------------------------------------------------------------------------------------------------------------------------------------------------------------------------------------------------------------------------------------------------------------------------------------------------------------------------------------------------------------------------------------------------------------------------------------------------------------------------------------------------------------------------------------------------------------------------------------------------------------------------------------------------------------------------------------------------------------------------------------------------------------------------------------------------------------------------------------------------------------------------------------------------------------------------------------------------------------------------------------------------------------------------------------------------------------------------------------------------------------------------------------------------------------------------------------------------------------------------------------------------------------------------------------------------------------------------------------------------------------------------------------------------------------------------------------------------------------------------------------------------------------------------------------------------------------------------------------------------------------------------------------------------------------------------------------------------------------------------------------------------------------------------------------------------------------------------------------------------------------------------------------------------------------------------------------------------------------------------------------------------------------------------------------------------------------------------------------------------------------------------------------------------------------------------------------------------------------------------------------------------------------------------------------------------------------------------------------------------------------------------------------------------------------------------------------------------------------------------------------------------------------------------------------------------------------------------------------------------------------------------------------------------------------------------------------------------------------------------------------------------------------------------------------------------------------------------------------------------------------------------------------------------------------------------------------------------------------------------------------------------------------------------------------------------------------------------------------------------------------------------------------------------------------------------------------------------------------------------------------------------------------------------------------------------------------------------------------------------------+-------------------+\n",
      "|user_id_index|recommendations                                                   |relevant                                                                                                                                                                                                                                                                                                                                                                                                                                                                                                                                                                                                                                                                                                                                                                                                                                                                                                                                                                                                                                                                                                                                                                                                                                                                                                                                                                                                                                                                                                                                                                                                                                                                                                                                                                                                                                                                                                                                                                                                                                                                                                                                                                                                                                                                                                                                                                                                                                                                                                                                                                                                                                                                                                                                                                                                                                                                                                                                                                                                                                                                                                                                                                                                                                                                                                                                                                                                                                                                                                                                                                                                                                                                                                                                                                                                                                                                                                                                                                                                                                                                                                                                                                                                                                                                                                                                                                                                                                                                                                                                                                                                                                                                                                                                                                                                                                                                                                                                                                                                                                                                                                                                                                                                                                                                                                                                                                                                                                                                                                                                                                                                                                                                                                                                                                                                                                                                                                                                                                                             |overlap            |\n",
      "+-------------+------------------------------------------------------------------+-----------------------------------------------------------------------------------------------------------------------------------------------------------------------------------------------------------------------------------------------------------------------------------------------------------------------------------------------------------------------------------------------------------------------------------------------------------------------------------------------------------------------------------------------------------------------------------------------------------------------------------------------------------------------------------------------------------------------------------------------------------------------------------------------------------------------------------------------------------------------------------------------------------------------------------------------------------------------------------------------------------------------------------------------------------------------------------------------------------------------------------------------------------------------------------------------------------------------------------------------------------------------------------------------------------------------------------------------------------------------------------------------------------------------------------------------------------------------------------------------------------------------------------------------------------------------------------------------------------------------------------------------------------------------------------------------------------------------------------------------------------------------------------------------------------------------------------------------------------------------------------------------------------------------------------------------------------------------------------------------------------------------------------------------------------------------------------------------------------------------------------------------------------------------------------------------------------------------------------------------------------------------------------------------------------------------------------------------------------------------------------------------------------------------------------------------------------------------------------------------------------------------------------------------------------------------------------------------------------------------------------------------------------------------------------------------------------------------------------------------------------------------------------------------------------------------------------------------------------------------------------------------------------------------------------------------------------------------------------------------------------------------------------------------------------------------------------------------------------------------------------------------------------------------------------------------------------------------------------------------------------------------------------------------------------------------------------------------------------------------------------------------------------------------------------------------------------------------------------------------------------------------------------------------------------------------------------------------------------------------------------------------------------------------------------------------------------------------------------------------------------------------------------------------------------------------------------------------------------------------------------------------------------------------------------------------------------------------------------------------------------------------------------------------------------------------------------------------------------------------------------------------------------------------------------------------------------------------------------------------------------------------------------------------------------------------------------------------------------------------------------------------------------------------------------------------------------------------------------------------------------------------------------------------------------------------------------------------------------------------------------------------------------------------------------------------------------------------------------------------------------------------------------------------------------------------------------------------------------------------------------------------------------------------------------------------------------------------------------------------------------------------------------------------------------------------------------------------------------------------------------------------------------------------------------------------------------------------------------------------------------------------------------------------------------------------------------------------------------------------------------------------------------------------------------------------------------------------------------------------------------------------------------------------------------------------------------------------------------------------------------------------------------------------------------------------------------------------------------------------------------------------------------------------------------------------------------------------------------------------------------------------------------------------------------------------------------------------------------------------------+-------------------+\n",
      "|7            |[1.0, 0.0, 14.0, 8.0, 16.0, 24.0, 7.0, 27.0, 11.0, 21.0]          |[804.0, 3358.0, 2052.0, 3102.0, 3431.0, 2058.0, 3500.0, 3247.0, 7520.0, 42148.0, 42053.0, 13645.0, 9544.0, 77659.0, 3184.0, 40640.0, 6753.0, 65800.0, 33383.0, 24975.0, 23669.0, 13378.0, 8969.0, 8356.0, 3462.0, 3269.0, 25824.0, 4018.0, 57467.0, 45745.0, 12319.0, 6470.0, 5883.0, 4506.0, 3527.0, 143.0, 75148.0, 72482.0, 66895.0, 60685.0, 55091.0, 40491.0, 34233.0, 33870.0, 27566.0, 21664.0, 20396.0, 16590.0, 15970.0, 14115.0, 13692.0, 9681.0, 9589.0, 9279.0, 7894.0, 6388.0, 5995.0, 5420.0, 5404.0, 3347.0, 2841.0, 2386.0, 2352.0, 2180.0, 1533.0, 1293.0, 958.0, 164.0, 78313.0, 77983.0, 77738.0, 76051.0, 73998.0, 71605.0, 69854.0, 69712.0, 68221.0, 68156.0, 67803.0, 67068.0, 66458.0, 66010.0, 64686.0, 64230.0, 63281.0, 62710.0, 61947.0, 61504.0, 60761.0, 59054.0, 58871.0, 57849.0, 57396.0, 57178.0, 56914.0, 56648.0, 56045.0, 55725.0, 54332.0, 54265.0, 53822.0, 52560.0, 50497.0, 50187.0, 49723.0, 49568.0, 47881.0, 47359.0, 47318.0, 44715.0, 44502.0, 44124.0, 41971.0, 40854.0, 40656.0, 40473.0, 40460.0, 40219.0, 40108.0, 39936.0, 39891.0, 39858.0, 39525.0, 39239.0, 38828.0, 38451.0, 37843.0, 37313.0, 37021.0, 36825.0, 35884.0, 35758.0, 35377.0, 34820.0, 34193.0, 33557.0, 33148.0, 31712.0, 31094.0, 30992.0, 29837.0, 29357.0, 29275.0, 29273.0, 29148.0, 28773.0, 28608.0, 28171.0, 27989.0, 27569.0, 27491.0, 27201.0, 26787.0, 26735.0, 26512.0, 26135.0, 25919.0, 25798.0, 25242.0, 25236.0, 25148.0, 24988.0, 24947.0, 24071.0, 23368.0, 23202.0, 22901.0, 22804.0, 22779.0, 21822.0, 21535.0, 20907.0, 20350.0, 20293.0, 19928.0, 19821.0, 19624.0, 19422.0, 19186.0, 19049.0, 18675.0, 18668.0, 18642.0, 18609.0, 18373.0, 18359.0, 17744.0, 17232.0, 17141.0, 16920.0, 16771.0, 16763.0, 16256.0, 16221.0, 16201.0, 16070.0, 15945.0, 15899.0, 15646.0, 15562.0, 15558.0, 15520.0, 15491.0, 15033.0, 14935.0, 14790.0, 14728.0, 14607.0, 14083.0, 13982.0, 13493.0, 13427.0, 13304.0, 13244.0, 13138.0, 12948.0, 12533.0, 12466.0, 12230.0, 12184.0, 12143.0, 12127.0, 11627.0, 11519.0, 11502.0, 11383.0, 11061.0, 10993.0, 10863.0, 10795.0, 10765.0, 10666.0, 10527.0, 10510.0, 10162.0, 9731.0, 9627.0, 9378.0, 9361.0, 9354.0, 9151.0, 9044.0, 9024.0, 8774.0, 8763.0, 8575.0, 8213.0, 8157.0, 8050.0, 8007.0, 7955.0, 7801.0, 7726.0, 7628.0, 7194.0, 7149.0, 7012.0, 6981.0, 6943.0, 6863.0, 6562.0, 6275.0, 6255.0, 6184.0, 6101.0, 6088.0, 5724.0, 5602.0, 5583.0, 5565.0, 5403.0, 5377.0, 5182.0, 5073.0, 5008.0, 4984.0, 4944.0, 4889.0, 4821.0, 4710.0, 4555.0, 4516.0, 4471.0, 4462.0, 4317.0, 4273.0, 4251.0, 4232.0, 4202.0, 4155.0, 4023.0, 3725.0, 3673.0, 3608.0, 3228.0, 3032.0, 2994.0, 2779.0, 2659.0, 2603.0, 2492.0, 2482.0, 2114.0, 2072.0, 2033.0, 1793.0, 1757.0, 1499.0, 1305.0, 1284.0, 1271.0, 1244.0, 1206.0, 1176.0, 1165.0, 983.0, 979.0, 829.0, 776.0, 733.0, 730.0, 700.0, 642.0, 434.0, 398.0, 377.0, 357.0, 347.0, 257.0, 64.0]                                                                                                                                                                                                                                                                                                                                                                                                                                                                                                                                                                                                                                                                                                                                                                                                                                                                                                                                                                                                                                                                                                                                                                                                                                                                                                                                                                                                                                                                                                                                                                                                                                                                                                                                                                                                                                                                                                                                                                                                                                                                                                                                                                                                                                                                                                                                                                                                                                                                                                                                                                                                                                                                                                                                                                                                                                                                                                                                                                                                                                                                     |[]                 |\n",
      "|4            |[24.0, 28.0, 12.0, 0.0, 15.0, 62.0, 139.0, 8.0, 21.0, 23.0]       |[284.0, 415.0, 6739.0, 10389.0, 6494.0, 1168.0, 1015.0, 9244.0, 2083.0, 18355.0, 14914.0, 13096.0, 12989.0, 7058.0, 6423.0, 4116.0, 4006.0, 3850.0, 3291.0, 3249.0, 2591.0, 2467.0, 2332.0, 1430.0, 1180.0, 1013.0, 685.0, 658.0, 282.0, 274.0, 71062.0, 69842.0, 53827.0, 47116.0, 25727.0, 17753.0, 16711.0, 16339.0, 16276.0, 15050.0, 13489.0, 11171.0, 9823.0, 8946.0, 6793.0, 6629.0, 5620.0, 5571.0, 4870.0, 4590.0, 4215.0, 4040.0, 4023.0, 3923.0, 3817.0, 3717.0, 3648.0, 3632.0, 3630.0, 3480.0, 3231.0, 3177.0, 2855.0, 2746.0, 2731.0, 2646.0, 2503.0, 2371.0, 2201.0, 2199.0, 2057.0, 1798.0, 1460.0, 1141.0, 1075.0, 1031.0, 925.0, 593.0, 457.0, 417.0, 312.0, 262.0, 248.0, 193.0, 171.0, 8.0, 76843.0, 75904.0, 71647.0, 67289.0, 66742.0, 66723.0, 57011.0, 56974.0, 54520.0, 51038.0, 50885.0, 50101.0, 49952.0, 48858.0, 48539.0, 47319.0, 46064.0, 46060.0, 45118.0, 43546.0, 43536.0, 41837.0, 40224.0, 39966.0, 38999.0, 38273.0, 37708.0, 37352.0, 36799.0, 36276.0, 36102.0, 35865.0, 35678.0, 34447.0, 33629.0, 33587.0, 33181.0, 32929.0, 32761.0, 32639.0, 32535.0, 32329.0, 31924.0, 31602.0, 31415.0, 31212.0, 31063.0, 29916.0, 29581.0, 29518.0, 29416.0, 28871.0, 28643.0, 27912.0, 27696.0, 27620.0, 27468.0, 25228.0, 25207.0, 25180.0, 25159.0, 24891.0, 24768.0, 24496.0, 24421.0, 24390.0, 24301.0, 24074.0, 23790.0, 23681.0, 23320.0, 22737.0, 22474.0, 22448.0, 22300.0, 21974.0, 21376.0, 21317.0, 21219.0, 21086.0, 20658.0, 20648.0, 20373.0, 20167.0, 20108.0, 19524.0, 19378.0, 19220.0, 19152.0, 18743.0, 18565.0, 18419.0, 18119.0, 18023.0, 17631.0, 17392.0, 17053.0, 17031.0, 16932.0, 16874.0, 16861.0, 16560.0, 16173.0, 16118.0, 15364.0, 15062.0, 14666.0, 14444.0, 14308.0, 13909.0, 13868.0, 13847.0, 13702.0, 13580.0, 12905.0, 12741.0, 12600.0, 12516.0, 12399.0, 12092.0, 11836.0, 11552.0, 11354.0, 11260.0, 11099.0, 11010.0, 10963.0, 10933.0, 10919.0, 10812.0, 10564.0, 10400.0, 10097.0, 10011.0, 9822.0, 9816.0, 9621.0, 9127.0, 8994.0, 8979.0, 8890.0, 8725.0, 8596.0, 8269.0, 7994.0, 7986.0, 7901.0, 7785.0, 7755.0, 7702.0, 7694.0, 7581.0, 7513.0, 7401.0, 7374.0, 7152.0, 6979.0, 6936.0, 6900.0, 6794.0, 6554.0, 6376.0, 6220.0, 6157.0, 6155.0, 6140.0, 5995.0, 5936.0, 5886.0, 5556.0, 5539.0, 5433.0, 5169.0, 5135.0, 5121.0, 5097.0, 4781.0, 4694.0, 4692.0, 4555.0, 4389.0, 4330.0, 4305.0, 4303.0, 4102.0, 3588.0, 3529.0, 3501.0, 3384.0, 3373.0, 3304.0, 3302.0, 3244.0, 3186.0, 3101.0, 3098.0, 3005.0, 2994.0, 2968.0, 2923.0, 2908.0, 2854.0, 2766.0, 2641.0, 2576.0, 2573.0, 2510.0, 2441.0, 2410.0, 2405.0, 2359.0, 2275.0, 2068.0, 1987.0, 1888.0, 1885.0, 1874.0, 1848.0, 1730.0, 1676.0, 1641.0, 1536.0, 1519.0, 1501.0, 1434.0, 1424.0, 1353.0, 1340.0, 1306.0, 1261.0, 1254.0, 1251.0, 1218.0, 1184.0, 1149.0, 1122.0, 1106.0, 1076.0, 1069.0, 980.0, 973.0, 969.0, 949.0, 935.0, 879.0, 877.0, 853.0, 816.0, 804.0, 779.0, 772.0, 755.0, 736.0, 720.0, 708.0, 624.0, 602.0, 576.0, 553.0, 471.0, 470.0, 388.0, 382.0, 339.0, 302.0, 268.0, 220.0, 219.0, 212.0, 154.0, 147.0, 100.0, 89.0, 40.0, 38.0, 32.0, 20.0]                                                                                                                                                                                                                                                                                                                                                                                                                                                                                                                                                                                                                                                                                                                                                                                                                                                                                                                                                                                                                                                                                                                                                                                                                                                                                                                                                                                                                                                                                                                                                                                                                                                                                                                                                                                                                                                                                                                                                                                                                                                                                                                                                                                                                                                                                                                                                                                                                                                                                                                                                                                                                                                                                                                                                                                                                                                                                   |[8.0]              |\n",
      "|9            |[1.0, 14.0, 48.0, 47.0, 68.0, 33.0, 3.0, 97.0, 136.0, 11.0]       |[4418.0, 5027.0, 121.0, 19.0, 2889.0, 484.0, 63.0, 26176.0, 1922.0, 557.0, 11308.0, 2884.0, 35304.0, 33388.0, 3878.0, 17562.0, 17253.0, 16581.0, 6603.0, 3804.0, 2186.0, 21596.0, 19462.0, 12801.0, 51644.0, 49694.0, 11751.0, 6430.0, 2421.0, 1388.0, 675.0, 29914.0, 3255.0, 2986.0, 1157.0, 39464.0, 3809.0, 492.0, 401.0, 364.0, 5358.0, 4616.0, 425.0, 351.0, 115.0, 31.0, 58830.0, 36007.0, 26603.0, 13040.0, 7828.0, 7280.0, 2860.0, 79.0, 28778.0, 23312.0, 11746.0, 5012.0, 4087.0, 3044.0, 1756.0, 542.0, 257.0, 37298.0, 31618.0, 19312.0, 15000.0, 14330.0, 11379.0, 4241.0, 2019.0, 1861.0, 1645.0, 1583.0, 1244.0, 182.0, 124.0, 71558.0, 60538.0, 57579.0, 49573.0, 38402.0, 20118.0, 9420.0, 8731.0, 8537.0, 8227.0, 7830.0, 7823.0, 6854.0, 6176.0, 6021.0, 1113.0, 868.0, 680.0, 629.0, 340.0, 300.0, 144.0, 105.0, 47.0, 2.0, 62420.0, 61951.0, 57656.0, 55271.0, 43559.0, 38853.0, 37688.0, 35868.0, 35210.0, 35164.0, 34724.0, 34358.0, 30036.0, 24498.0, 20847.0, 19252.0, 16349.0, 13405.0, 12442.0, 12369.0, 10083.0, 9347.0, 9175.0, 8693.0, 8578.0, 8515.0, 8046.0, 7928.0, 7908.0, 7352.0, 5440.0, 5258.0, 4854.0, 4630.0, 4355.0, 4340.0, 3292.0, 3188.0, 2420.0, 1704.0, 1488.0, 1423.0, 1191.0, 1169.0, 1064.0, 891.0, 650.0, 52.0, 15.0, 11.0, 10.0, 72749.0, 68700.0, 68688.0, 68498.0, 60840.0, 60740.0, 55780.0, 55540.0, 55295.0, 54745.0, 54027.0, 52285.0, 51281.0, 49858.0, 48673.0, 48231.0, 47984.0, 45490.0, 45480.0, 43295.0, 42754.0, 40861.0, 40221.0, 39802.0, 34769.0, 34729.0, 34557.0, 33791.0, 32728.0, 31870.0, 31813.0, 31209.0, 30498.0, 29912.0, 29123.0, 27966.0, 27304.0, 26857.0, 26378.0, 25485.0, 24953.0, 24861.0, 23779.0, 22588.0, 22467.0, 22329.0, 22115.0, 21689.0, 21384.0, 21205.0, 20656.0, 20008.0, 19828.0, 19773.0, 19645.0, 19565.0, 19505.0, 18874.0, 18747.0, 18625.0, 18350.0, 18273.0, 17733.0, 16757.0, 16606.0, 16129.0, 16128.0, 16107.0, 16091.0, 15265.0, 15234.0, 15113.0, 15032.0, 14509.0, 14132.0, 13679.0, 13581.0, 13282.0, 13257.0, 13096.0, 12425.0, 11749.0, 11572.0, 10941.0, 10824.0, 10616.0, 10536.0, 10245.0, 10093.0, 10071.0, 9912.0, 9793.0, 9292.0, 9058.0, 8955.0, 8899.0, 8664.0, 8562.0, 8139.0, 7686.0, 7502.0, 7458.0, 7301.0, 7057.0, 6890.0, 6686.0, 6271.0, 5705.0, 5523.0, 5327.0, 5236.0, 5153.0, 4977.0, 4835.0, 4756.0, 4372.0, 4188.0, 4080.0, 3881.0, 3619.0, 3561.0, 3342.0, 3294.0, 2811.0, 2619.0, 2023.0, 1703.0, 1682.0, 1603.0, 1345.0, 1312.0, 1262.0, 1130.0, 1039.0, 1008.0, 897.0, 820.0, 812.0, 758.0, 653.0, 547.0, 514.0, 478.0, 469.0, 454.0, 368.0, 342.0, 318.0, 275.0, 265.0, 242.0, 233.0, 228.0, 191.0, 100.0, 75.0, 67.0]                                                                                                                                                                                                                                                                                                                                                                                                                                                                                                                                                                                                                                                                                                                                                                                                                                                                                                                                                                                                                                                                                                                                                                                                                                                                                                                                                                                                                                                                                                                                                                                                                                                                                                                                                                                                                                                                                                                                                                                                                                                                                                                                                                                                                                                                                                                                                                                                                                                                                                                                                                                                                                                                                                                                                                                                                                                                                                                                                                                                                                                                                                                                                                                                                                                                                                                                        |[47.0, 11.0]       |\n",
      "|3            |[14.0, 24.0, 201.0, 28.0, 11.0, 97.0, 41.0, 62.0, 68.0, 202.0]    |[31002.0, 4219.0, 2215.0, 9020.0, 338.0, 20915.0, 106.0, 282.0, 198.0, 45138.0, 5069.0, 7.0, 8629.0, 65.0, 23.0, 5139.0, 1861.0, 4089.0, 24273.0, 44.0, 6910.0, 6098.0, 750.0, 7826.0, 160.0, 9703.0, 3250.0, 1070.0, 22.0, 27484.0, 468.0, 3726.0, 898.0, 59.0, 6489.0, 284.0, 15313.0, 4885.0, 3108.0, 101.0, 51003.0, 30054.0, 23369.0, 638.0, 70.0, 40740.0, 3511.0, 610.0, 107.0, 20044.0, 5185.0, 4330.0, 1523.0, 591.0, 87.0, 75.0, 36.0, 78790.0, 73438.0, 59503.0, 29858.0, 29766.0, 16835.0, 14541.0, 14081.0, 9171.0, 7105.0, 6706.0, 5677.0, 5293.0, 4884.0, 1826.0, 973.0, 782.0, 174.0, 102.0, 66.0, 26.0, 8.0, 3.0, 47691.0, 36641.0, 36103.0, 32345.0, 5086.0, 4533.0, 4102.0, 1881.0, 1678.0, 779.0, 734.0, 38667.0, 28143.0, 18287.0, 13847.0, 13457.0, 10370.0, 9444.0, 8671.0, 6466.0, 5955.0, 5821.0, 4538.0, 299.0, 169.0, 117.0, 53.0, 66154.0, 45989.0, 30142.0, 20928.0, 16929.0, 16542.0, 12605.0, 11575.0, 10890.0, 8073.0, 6920.0, 6333.0, 4743.0, 4458.0, 1514.0, 661.0, 517.0, 371.0, 350.0, 341.0, 218.0, 168.0, 165.0, 83.0, 60.0, 59845.0, 58187.0, 55525.0, 52530.0, 50845.0, 50384.0, 34911.0, 34405.0, 33610.0, 27001.0, 23202.0, 22547.0, 21339.0, 21253.0, 19788.0, 19269.0, 16535.0, 11902.0, 10925.0, 9322.0, 8327.0, 8191.0, 7950.0, 7148.0, 7143.0, 6831.0, 6413.0, 5312.0, 4693.0, 4509.0, 4153.0, 3865.0, 3745.0, 3515.0, 3101.0, 3082.0, 2921.0, 2767.0, 2621.0, 2200.0, 2112.0, 1990.0, 1754.0, 1347.0, 1117.0, 858.0, 306.0, 287.0, 261.0, 233.0, 125.0, 123.0, 75842.0, 67349.0, 65380.0, 61120.0, 56366.0, 55306.0, 51499.0, 51272.0, 48619.0, 44883.0, 44755.0, 44544.0, 44191.0, 41960.0, 38982.0, 36847.0, 36728.0, 36656.0, 32158.0, 32117.0, 31182.0, 31084.0, 30347.0, 29787.0, 28724.0, 28478.0, 28259.0, 26966.0, 25388.0, 24743.0, 24250.0, 23975.0, 23822.0, 23688.0, 23000.0, 21439.0, 20891.0, 20553.0, 20486.0, 20330.0, 19570.0, 19422.0, 18981.0, 18735.0, 18240.0, 17774.0, 17462.0, 17027.0, 16715.0, 16654.0, 16611.0, 16166.0, 15155.0, 14807.0, 14787.0, 14752.0, 14733.0, 13330.0, 13129.0, 13069.0, 13047.0, 12776.0, 12572.0, 12406.0, 11859.0, 11507.0, 11361.0, 11096.0, 10444.0, 10177.0, 10170.0, 9692.0, 9547.0, 9390.0, 8844.0, 8792.0, 8635.0, 8282.0, 8232.0, 8063.0, 8008.0, 7879.0, 7867.0, 7698.0, 7659.0, 7628.0, 7263.0, 7037.0, 6267.0, 6188.0, 6157.0, 6156.0, 5817.0, 5475.0, 5345.0, 5319.0, 5281.0, 5038.0, 4965.0, 4961.0, 4870.0, 4837.0, 4780.0, 4574.0, 4456.0, 4445.0, 3999.0, 3901.0, 3826.0, 3711.0, 3630.0, 3601.0, 3599.0, 3449.0, 3354.0, 3316.0, 3154.0, 2942.0, 2894.0, 2861.0, 2857.0, 2754.0, 2687.0, 2641.0, 2549.0, 2541.0, 2533.0, 2307.0, 2269.0, 2268.0, 2235.0, 1906.0, 1865.0, 1853.0, 1819.0, 1734.0, 1698.0, 1576.0, 1527.0, 1471.0, 1411.0, 1380.0, 1316.0, 1279.0, 1277.0, 1271.0, 1152.0, 1144.0, 1115.0, 1110.0, 1043.0, 1009.0, 998.0, 959.0, 827.0, 801.0, 756.0, 751.0, 587.0, 554.0, 532.0, 523.0, 452.0, 424.0, 355.0, 312.0, 290.0, 280.0, 254.0, 249.0, 215.0, 179.0, 171.0, 149.0, 141.0, 126.0, 109.0, 91.0, 71.0, 50.0, 14.0]                                                                                                                                                                                                                                                                                                                                                                                                                                                                                                                                                                                                                                                                                                                                                                                                                                                                                                                                                                                                                                                                                                                                                                                                                                                                                                                                                                                                                                                                                                                                                                                                                                                                                                                                                                                                                                                                                                                                                                                                                                                                                                                                                                                                                                                                                                                                                                                                                                                                                                                                                                                                                                                                                                                                                                                                                                                                                                                                         |[14.0]             |\n",
      "|11           |[16.0, 14.0, 42.0, 33.0, 47.0, 201.0, 217.0, 39.0, 40.0, 41.0]    |[16314.0, 6171.0, 50.0, 9377.0, 333.0, 10739.0, 11014.0, 9842.0, 4961.0, 2945.0, 74445.0, 65841.0, 16135.0, 68878.0, 38407.0, 14838.0, 22860.0, 19433.0, 10261.0, 5.0, 52026.0, 33780.0, 20596.0, 438.0, 64724.0, 42340.0, 41123.0, 26728.0, 20913.0, 15902.0, 9001.0, 1833.0, 263.0, 56946.0, 56278.0, 30599.0, 30307.0, 23441.0, 15506.0, 14438.0, 11212.0, 10812.0, 10389.0, 9874.0, 7183.0, 7030.0, 3128.0, 119.0, 59.0, 29.0, 46864.0, 41891.0, 40556.0, 25525.0, 18970.0, 15393.0, 9951.0, 8954.0, 3365.0, 1565.0, 1510.0, 65865.0, 50521.0, 48199.0, 37290.0, 35722.0, 33997.0, 29181.0, 26529.0, 22109.0, 19760.0, 15634.0, 13335.0, 10656.0, 8490.0, 7771.0, 5244.0, 3963.0, 3880.0, 3241.0, 2334.0, 1642.0, 1331.0, 1185.0, 533.0, 78947.0, 72921.0, 66520.0, 64483.0, 57262.0, 54050.0, 48053.0, 42594.0, 42044.0, 41429.0, 39447.0, 37332.0, 34857.0, 33067.0, 32200.0, 27516.0, 27144.0, 26978.0, 24145.0, 23596.0, 22884.0, 22705.0, 22591.0, 21314.0, 21174.0, 19607.0, 17979.0, 17837.0, 17343.0, 17001.0, 13795.0, 13472.0, 13259.0, 12930.0, 12098.0, 10252.0, 9599.0, 9468.0, 8933.0, 8090.0, 5709.0, 5699.0, 5629.0, 4611.0, 4194.0, 3355.0, 3146.0, 2901.0, 1955.0, 1824.0, 1749.0, 786.0, 76463.0, 74178.0, 70441.0, 68902.0, 68553.0, 66094.0, 66030.0, 64880.0, 64556.0, 62728.0, 61265.0, 60259.0, 59648.0, 59363.0, 58420.0, 58276.0, 55970.0, 53472.0, 52976.0, 52022.0, 51684.0, 50403.0, 49688.0, 48761.0, 46803.0, 46569.0, 46334.0, 45785.0, 44913.0, 44096.0, 43757.0, 42428.0, 42240.0, 39348.0, 39209.0, 38822.0, 37490.0, 35799.0, 35373.0, 34993.0, 33304.0, 33278.0, 31516.0, 31231.0, 30907.0, 29721.0, 29517.0, 28969.0, 28655.0, 28506.0, 27809.0, 27392.0, 26073.0, 25894.0, 25299.0, 25006.0, 24346.0, 23874.0, 23869.0, 23270.0, 23194.0, 23145.0, 22831.0, 22499.0, 22073.0, 21285.0, 20838.0, 19686.0, 19172.0, 18938.0, 18004.0, 17994.0, 17879.0, 17751.0, 17416.0, 16513.0, 16142.0, 16055.0, 15981.0, 15942.0, 15514.0, 15453.0, 15257.0, 14877.0, 14555.0, 14484.0, 14170.0, 13684.0, 13256.0, 13134.0, 12744.0, 12716.0, 12455.0, 12053.0, 11809.0, 11679.0, 11379.0, 11242.0, 11235.0, 11068.0, 10915.0, 10460.0, 10438.0, 10309.0, 9977.0, 9739.0, 9048.0, 8508.0, 8436.0, 8300.0, 8283.0, 8156.0, 7959.0, 7178.0, 6964.0, 6875.0, 6865.0, 6610.0, 6313.0, 5735.0, 5596.0, 5406.0, 5363.0, 5321.0, 5271.0, 5130.0, 4559.0, 4302.0, 4247.0, 3953.0, 3744.0, 3695.0, 3617.0, 3557.0, 3293.0, 3268.0, 3122.0, 3078.0, 3062.0, 3010.0, 2990.0, 2920.0, 2833.0, 2681.0, 2507.0, 2388.0, 2263.0, 2204.0, 1984.0, 1967.0, 1921.0, 1721.0, 1697.0, 1695.0, 1359.0, 1352.0, 1291.0, 1225.0, 1032.0, 780.0, 672.0, 524.0, 388.0, 353.0, 321.0, 57.0, 56.0, 19.0]                                                                                                                                                                                                                                                                                                                                                                                                                                                                                                                                                                                                                                                                                                                                                                                                                                                                                                                                                                                                                                                                                                                                                                                                                                                                                                                                                                                                                                                                                                                                                                                                                                                                                                                                                                                                                                                                                                                                                                                                                                                                                                                                                                                                                                                                                                                                                                                                                                                                                                                                                                                                                                                                                                                                                                                                                                                                                                                                                                                                                                                                                                                                                                                                                                                                                          |[]                 |\n",
      "|12           |[213.0, 42.0, 318.0, 70.0, 286.0, 402.0, 46.0, 39.0, 67.0, 217.0] |[13853.0, 10579.0, 5486.0, 7442.0, 23975.0, 8525.0, 1054.0, 6460.0, 10644.0, 5546.0, 63308.0, 12251.0, 5130.0, 4559.0, 2040.0, 30389.0, 10844.0, 14160.0, 5071.0, 52336.0, 11395.0, 2657.0, 1663.0, 62618.0, 38985.0, 13121.0, 12348.0, 12011.0, 10860.0, 10320.0, 6585.0, 2783.0, 1235.0, 65.0, 68405.0, 32866.0, 25641.0, 23272.0, 13862.0, 11068.0, 10582.0, 10309.0, 9127.0, 8608.0, 6814.0, 5218.0, 4091.0, 2580.0, 1573.0, 953.0, 319.0, 70193.0, 68884.0, 58347.0, 35149.0, 27086.0, 26958.0, 23552.0, 19688.0, 17298.0, 15800.0, 13335.0, 13094.0, 12180.0, 11645.0, 11358.0, 10602.0, 8989.0, 6101.0, 6072.0, 3476.0, 3435.0, 2647.0, 2545.0, 2507.0, 1307.0, 47565.0, 46532.0, 46068.0, 36357.0, 34719.0, 33949.0, 31065.0, 30189.0, 29419.0, 28483.0, 28454.0, 27016.0, 24305.0, 23874.0, 23415.0, 22221.0, 21910.0, 21383.0, 21051.0, 21033.0, 20511.0, 19659.0, 19602.0, 19453.0, 19395.0, 19082.0, 18983.0, 18488.0, 18096.0, 17498.0, 17191.0, 16333.0, 16284.0, 15944.0, 15366.0, 15157.0, 14902.0, 14234.0, 14173.0, 13388.0, 12556.0, 12539.0, 12034.0, 11871.0, 11216.0, 10656.0, 9951.0, 9137.0, 8034.0, 7617.0, 7435.0, 7305.0, 7030.0, 5194.0, 4545.0, 3719.0, 3716.0, 3695.0, 3444.0, 2805.0, 2341.0, 2043.0, 406.0, 345.0, 247.0, 240.0, 76444.0, 68888.0, 68737.0, 67629.0, 66642.0, 64836.0, 52819.0, 52351.0, 49491.0, 48833.0, 48656.0, 47129.0, 45698.0, 45304.0, 45267.0, 44695.0, 42616.0, 41491.0, 39994.0, 39973.0, 39845.0, 39533.0, 39298.0, 37061.0, 35955.0, 35882.0, 35097.0, 35068.0, 35012.0, 34556.0, 33945.0, 33762.0, 31663.0, 31558.0, 30976.0, 30668.0, 30537.0, 30116.0, 29625.0, 29206.0, 28134.0, 28100.0, 26874.0, 26187.0, 26058.0, 25364.0, 25351.0, 23246.0, 22838.0, 22533.0, 22304.0, 22084.0, 22073.0, 21841.0, 21651.0, 21546.0, 21477.0, 21257.0, 20887.0, 20864.0, 20109.0, 20013.0, 19532.0, 19300.0, 19250.0, 19229.0, 18838.0, 18712.0, 18492.0, 18412.0, 18106.0, 17923.0, 17796.0, 17068.0, 16866.0, 16732.0, 16130.0, 16124.0, 16121.0, 15571.0, 15568.0, 15311.0, 15291.0, 13936.0, 13747.0, 13510.0, 13318.0, 13146.0, 13095.0, 12984.0, 12903.0, 12885.0, 12647.0, 12092.0, 11734.0, 11677.0, 11570.0, 11462.0, 10946.0, 10876.0, 10296.0, 10244.0, 9889.0, 9833.0, 9768.0, 9657.0, 9617.0, 9384.0, 8753.0, 8741.0, 8661.0, 8585.0, 8582.0, 8401.0, 8320.0, 8295.0, 8277.0, 7867.0, 7611.0, 7483.0, 7263.0, 6878.0, 6875.0, 6739.0, 6614.0, 6546.0, 6525.0, 5930.0, 5878.0, 5617.0, 5588.0, 5586.0, 5354.0, 4907.0, 4790.0, 4446.0, 4356.0, 4314.0, 3749.0, 3728.0, 3505.0, 3440.0, 3410.0, 3409.0, 2952.0, 2880.0, 2797.0, 2487.0, 2246.0, 952.0, 921.0, 885.0, 697.0, 606.0, 470.0, 438.0, 372.0, 219.0, 188.0, 93.0]                                                                                                                                                                                                                                                                                                                                                                                                                                                                                                                                                                                                                                                                                                                                                                                                                                                                                                                                                                                                                                                                                                                                                                                                                                                                                                                                                                                                                                                                                                                                                                                                                                                                                                                                                                                                                                                                                                                                                                                                                                                                                                                                                                                                                                                                                                                                                                                                                                                                                                                                                                                                                                                                                                                                                                                                                                                                                                                                                                                                                                                                                                                                                                                                                                                                                                           |[]                 |\n",
      "|1            |[47.0, 48.0, 1.0, 14.0, 33.0, 97.0, 134.0, 136.0, 16.0, 11.0]     |[7425.0, 3740.0, 18317.0, 4199.0, 8682.0, 112.0, 59508.0, 20921.0, 2427.0, 24054.0, 15757.0, 15639.0, 9817.0, 1783.0, 1284.0, 637.0, 11.0, 39936.0, 13331.0, 4788.0, 549.0, 214.0, 37573.0, 1625.0, 482.0, 332.0, 118.0, 19784.0, 7149.0, 5164.0, 2731.0, 2448.0, 1632.0, 178.0, 63181.0, 43498.0, 38417.0, 35402.0, 22805.0, 15662.0, 14542.0, 10351.0, 1110.0, 298.0, 26.0, 18004.0, 9397.0, 3156.0, 1889.0, 1853.0, 1470.0, 114.0, 95.0, 78545.0, 41714.0, 41650.0, 30834.0, 25276.0, 24915.0, 24279.0, 21747.0, 15933.0, 13882.0, 12824.0, 10196.0, 9622.0, 8456.0, 8395.0, 8109.0, 7558.0, 7225.0, 5712.0, 4511.0, 2782.0, 1766.0, 1217.0, 1144.0, 1126.0, 609.0, 67783.0, 59799.0, 15443.0, 8352.0, 7531.0, 5190.0, 3842.0, 921.0, 882.0, 475.0, 183.0, 166.0, 125.0, 0.0, 63586.0, 47617.0, 34144.0, 26965.0, 25835.0, 16126.0, 15511.0, 13653.0, 13174.0, 13094.0, 8899.0, 4441.0, 3952.0, 3877.0, 3096.0, 2574.0, 2566.0, 2514.0, 2129.0, 1982.0, 1128.0, 1095.0, 644.0, 386.0, 351.0, 202.0, 74.0, 28.0, 68904.0, 60243.0, 59531.0, 58716.0, 56434.0, 55435.0, 54318.0, 49736.0, 40526.0, 33709.0, 29691.0, 23140.0, 22039.0, 19415.0, 18206.0, 17403.0, 16392.0, 14515.0, 12705.0, 12407.0, 11178.0, 10937.0, 10536.0, 10502.0, 10209.0, 10011.0, 9671.0, 8565.0, 8058.0, 7516.0, 6782.0, 6330.0, 6038.0, 5747.0, 5713.0, 5633.0, 5626.0, 5467.0, 5342.0, 4848.0, 4472.0, 3530.0, 3422.0, 2656.0, 2117.0, 1845.0, 1731.0, 1718.0, 1556.0, 1319.0, 804.0, 561.0, 530.0, 470.0, 335.0, 288.0, 226.0, 225.0, 222.0, 154.0, 64.0, 18.0, 78506.0, 76419.0, 71887.0, 70981.0, 68479.0, 62822.0, 62197.0, 60658.0, 59105.0, 58389.0, 57727.0, 56829.0, 55739.0, 55369.0, 52491.0, 52264.0, 49765.0, 49415.0, 47946.0, 46219.0, 46109.0, 45186.0, 44170.0, 43933.0, 43244.0, 42550.0, 42179.0, 37480.0, 37264.0, 36854.0, 36803.0, 36259.0, 35859.0, 34570.0, 34314.0, 33466.0, 33027.0, 30801.0, 27807.0, 27363.0, 26361.0, 26276.0, 25671.0, 25201.0, 24073.0, 23933.0, 23502.0, 22791.0, 21970.0, 20870.0, 20598.0, 19924.0, 19670.0, 19420.0, 17407.0, 17267.0, 17093.0, 17014.0, 16671.0, 16437.0, 16212.0, 15810.0, 15580.0, 15526.0, 15163.0, 14600.0, 14254.0, 14230.0, 14141.0, 13997.0, 13101.0, 12963.0, 12720.0, 12624.0, 12399.0, 12305.0, 12180.0, 12143.0, 12047.0, 11914.0, 11800.0, 11701.0, 11007.0, 10442.0, 10406.0, 10048.0, 9705.0, 9664.0, 9604.0, 9515.0, 9482.0, 9337.0, 9273.0, 9190.0, 8925.0, 8458.0, 8066.0, 8056.0, 8051.0, 7983.0, 7967.0, 7596.0, 7553.0, 7362.0, 7208.0, 7146.0, 7145.0, 7045.0, 6936.0, 6871.0, 6784.0, 6591.0, 6564.0, 6545.0, 6510.0, 6298.0, 6261.0, 6140.0, 6103.0, 5942.0, 5915.0, 5873.0, 5614.0, 5531.0, 5520.0, 5510.0, 5379.0, 5302.0, 5184.0, 5159.0, 4957.0, 4914.0, 4889.0, 4868.0, 4847.0, 4708.0, 4691.0, 4689.0, 4492.0, 4486.0, 4475.0, 4262.0, 4189.0, 4123.0, 3967.0, 3954.0, 3950.0, 3912.0, 3846.0, 3742.0, 3637.0, 3635.0, 3574.0, 3485.0, 3469.0, 3182.0, 2947.0, 2695.0, 2445.0, 2355.0, 2315.0, 2306.0, 2304.0, 2143.0, 2055.0, 2051.0, 1952.0, 1832.0, 1706.0, 1681.0, 1637.0, 1636.0, 1626.0, 1599.0, 1578.0, 1372.0, 1354.0, 1348.0, 1301.0, 1299.0, 1188.0, 971.0, 955.0, 942.0, 914.0, 895.0, 831.0, 787.0, 738.0, 718.0, 709.0, 702.0, 669.0, 624.0, 602.0, 584.0, 573.0, 544.0, 543.0, 523.0, 510.0, 500.0, 456.0, 448.0, 382.0, 309.0, 307.0, 260.0, 243.0, 237.0, 207.0, 168.0, 143.0, 87.0, 75.0, 59.0, 38.0, 32.0, 30.0, 25.0]                                                                                                                                                                                                                                                                                                                                                                                                                                                                                                                                                                                                                                                                                                                                                                                                                                                                                                                                                                                                                                                                                                                                                                                                                                                                                                                                                                                                                                                                                                                                                                                                                                                                                                                                                                                                                                                                                                                                                                                                                                                                                                                                                                                                                                                                                                                                                                                                                                                                                                                                                                               |[11.0]             |\n",
      "|14           |[41.0, 14.0, 28.0, 24.0, 9.0, 32.0, 76.0, 62.0, 79.0, 96.0]       |[6270.0, 6368.0, 5961.0, 19060.0, 63835.0, 52480.0, 13077.0, 11187.0, 7182.0, 2767.0, 49828.0, 16404.0, 7128.0, 4472.0, 45989.0, 5737.0, 1389.0, 289.0, 62271.0, 58738.0, 46734.0, 28396.0, 26077.0, 21776.0, 18871.0, 18791.0, 11294.0, 8984.0, 6966.0, 4041.0, 1845.0, 516.0, 60371.0, 49768.0, 49050.0, 18365.0, 8103.0, 6541.0, 1488.0, 1469.0, 278.0, 107.0, 63323.0, 62307.0, 50625.0, 42831.0, 31555.0, 11300.0, 6550.0, 5952.0, 3737.0, 914.0, 212.0, 64438.0, 61569.0, 58391.0, 40401.0, 33719.0, 26339.0, 25470.0, 21996.0, 20918.0, 16750.0, 15701.0, 12688.0, 11812.0, 11621.0, 11361.0, 10335.0, 8766.0, 7716.0, 7647.0, 7273.0, 7036.0, 6323.0, 5550.0, 5005.0, 4986.0, 4714.0, 3851.0, 3706.0, 2748.0, 2502.0, 2348.0, 2027.0, 1531.0, 1274.0, 1113.0, 819.0, 615.0, 276.0, 0.0, 73286.0, 66375.0, 63189.0, 61302.0, 58892.0, 50545.0, 50322.0, 48615.0, 47543.0, 46827.0, 46175.0, 46063.0, 44104.0, 42636.0, 41418.0, 41328.0, 39803.0, 39777.0, 39681.0, 39251.0, 39196.0, 34921.0, 34575.0, 33585.0, 33330.0, 32527.0, 32153.0, 28968.0, 28395.0, 28305.0, 27903.0, 27682.0, 27470.0, 26620.0, 26196.0, 26097.0, 25917.0, 24162.0, 24115.0, 23931.0, 23653.0, 22383.0, 22216.0, 22055.0, 21971.0, 21929.0, 21847.0, 21286.0, 21062.0, 20556.0, 19788.0, 19473.0, 19400.0, 19268.0, 19249.0, 19114.0, 19086.0, 18997.0, 18982.0, 18441.0, 18248.0, 17033.0, 16826.0, 16605.0, 15911.0, 15647.0, 15251.0, 15243.0, 14790.0, 14703.0, 14414.0, 14256.0, 13779.0, 13517.0, 13431.0, 13413.0, 13371.0, 13321.0, 13137.0, 12427.0, 12257.0, 12227.0, 12204.0, 11832.0, 11277.0, 11177.0, 10540.0, 10520.0, 10189.0, 9725.0, 9664.0, 9651.0, 9361.0, 9222.0, 9135.0, 8867.0, 8848.0, 8844.0, 8813.0, 8639.0, 8476.0, 8399.0, 8391.0, 8388.0, 8336.0, 8128.0, 8110.0, 7939.0, 7885.0, 7881.0, 7761.0, 7668.0, 7598.0, 7462.0, 7377.0, 7149.0, 7074.0, 6904.0, 6456.0, 6444.0, 6087.0, 5708.0, 5698.0, 5584.0, 5464.0, 5426.0, 5262.0, 5160.0, 5106.0, 5086.0, 4983.0, 4859.0, 4570.0, 4537.0, 4365.0, 4364.0, 4338.0, 4204.0, 4000.0, 3724.0, 3673.0, 3668.0, 3575.0, 3574.0, 3413.0, 3309.0, 3263.0, 3190.0, 3127.0, 3124.0, 3106.0, 3089.0, 3079.0, 2960.0, 2781.0, 2745.0, 2711.0, 2641.0, 2572.0, 2523.0, 2367.0, 2312.0, 2285.0, 2275.0, 2266.0, 2242.0, 2202.0, 2099.0, 2041.0, 1777.0, 1750.0, 1718.0, 1649.0, 1620.0, 1578.0, 1376.0, 1372.0, 1342.0, 1333.0, 1261.0, 1241.0, 1194.0, 1152.0, 1066.0, 1038.0, 935.0, 828.0, 822.0, 675.0, 588.0, 566.0, 503.0, 466.0, 399.0, 369.0, 362.0, 355.0, 332.0, 312.0, 299.0, 263.0, 224.0, 214.0, 170.0, 8.0]                                                                                                                                                                                                                                                                                                                                                                                                                                                                                                                                                                                                                                                                                                                                                                                                                                                                                                                                                                                                                                                                                                                                                                                                                                                                                                                                                                                                                                                                                                                                                                                                                                                                                                                                                                                                                                                                                                                                                                                                                                                                                                                                                                                                                                                                                                                                                                                                                                                                                                                                                                                                                                                                                                                                                                                                                                                                                                                                                                                                                                                                                                                                                                                                                                                                                                                                                                                                                           |[]                 |\n",
      "|0            |[14.0, 201.0, 97.0, 11.0, 163.0, 136.0, 297.0, 68.0, 1.0, 217.0]  |[77699.0, 75994.0, 73323.0, 67826.0, 62652.0, 62361.0, 58902.0, 54929.0, 46152.0, 40456.0, 33022.0, 32374.0, 30500.0, 21484.0, 18233.0, 15430.0, 12329.0, 11431.0, 10959.0, 9549.0, 9040.0, 6614.0, 4953.0, 4401.0, 3483.0, 3094.0, 2135.0, 1850.0, 596.0, 412.0, 24700.0, 21592.0, 21053.0, 621.0, 78962.0, 78753.0, 78553.0, 78304.0, 78167.0, 78134.0, 77809.0, 77399.0, 77005.0, 76784.0, 76269.0, 76199.0, 75975.0, 75516.0, 75425.0, 75148.0, 75090.0, 75082.0, 74839.0, 74592.0, 74248.0, 74145.0, 74061.0, 73850.0, 73720.0, 73509.0, 73329.0, 72867.0, 72834.0, 72552.0, 72412.0, 72186.0, 72171.0, 72016.0, 71738.0, 71710.0, 71650.0, 71585.0, 71526.0, 71375.0, 71340.0, 71238.0, 71197.0, 70661.0, 70547.0, 70545.0, 70450.0, 70386.0, 69727.0, 69522.0, 68844.0, 68625.0, 68238.0, 67825.0, 67740.0, 67650.0, 67483.0, 67438.0, 67400.0, 67352.0, 67323.0, 67220.0, 67190.0, 67129.0, 66817.0, 66801.0, 66266.0, 66265.0, 65930.0, 65701.0, 65618.0, 65615.0, 65603.0, 65364.0, 65316.0, 64838.0, 64483.0, 64100.0, 64098.0, 64072.0, 64048.0, 63630.0, 63323.0, 63179.0, 63127.0, 63045.0, 63018.0, 62953.0, 62858.0, 62837.0, 62633.0, 62600.0, 62592.0, 62436.0, 62419.0, 62280.0, 62266.0, 62086.0, 61879.0, 61873.0, 61798.0, 61737.0, 61685.0, 61667.0, 61529.0, 61067.0, 60977.0, 60826.0, 60719.0, 60528.0, 60437.0, 60341.0, 60243.0, 60090.0, 59996.0, 59694.0, 59317.0, 59292.0, 59059.0, 58976.0, 58949.0, 58930.0, 58636.0, 58622.0, 58602.0, 58485.0, 58256.0, 58152.0, 58076.0, 57950.0, 57867.0, 57816.0, 57741.0, 57463.0, 57406.0, 57350.0, 56943.0, 56927.0, 56900.0, 56824.0, 56225.0, 55982.0, 55884.0, 55798.0, 55639.0, 55562.0, 55364.0, 55289.0, 55060.0, 55036.0, 54953.0, 54770.0, 54766.0, 54507.0, 54389.0, 54200.0, 54175.0, 54055.0, 53908.0, 53903.0, 53822.0, 53496.0, 53450.0, 53301.0, 53233.0, 53168.0, 53066.0, 52912.0, 52907.0, 52835.0, 52699.0, 52404.0, 52284.0, 52258.0, 52182.0, 51914.0, 51795.0, 51760.0, 51584.0, 51571.0, 51536.0, 51485.0, 51380.0, 51177.0, 51054.0, 50944.0, 50925.0, 50892.0, 50744.0, 50680.0, 50642.0, 50618.0, 50534.0, 50316.0, 50169.0, 50088.0, 50040.0, 49914.0, 49862.0, 49854.0, 49831.0, 49628.0, 49549.0, 49511.0, 49489.0, 49432.0, 49397.0, 49370.0, 49364.0, 49360.0, 49307.0, 49054.0, 48978.0, 48946.0, 48920.0, 48865.0, 48862.0, 48849.0, 48612.0, 48587.0, 48335.0, 48309.0, 48170.0, 48138.0, 48010.0, 47719.0, 47575.0, 47553.0, 47373.0, 47320.0, 47252.0, 47234.0, 47126.0, 46803.0, 46781.0, 46769.0, 46521.0, 46298.0, 46159.0, 46135.0, 46067.0, 45833.0, 45355.0, 45206.0, 45177.0, 45033.0, 45028.0, 44958.0, 44890.0, 44826.0, 44795.0, 44775.0, 44770.0, 44554.0, 44503.0, 44479.0, 44433.0, 44344.0, 44311.0, 44105.0, 43876.0, 43823.0, 43772.0, 43703.0, 43643.0, 43539.0, 43458.0, 43404.0, 43276.0, 43235.0, 43083.0, 43028.0, 42988.0, 42947.0, 42779.0, 42733.0, 42684.0, 42625.0, 42408.0, 42350.0, 42056.0, 41899.0, 41782.0, 41506.0, 41498.0, 41440.0, 41285.0, 41279.0, 41206.0, 41028.0, 40889.0, 40764.0, 40622.0, 40553.0, 40540.0, 40528.0, 40495.0, 40433.0, 40420.0, 40380.0, 40354.0, 40135.0, 39878.0, 39489.0, 39442.0, 39349.0, 39137.0, 39129.0, 39035.0, 39034.0, 38671.0, 38597.0, 38548.0, 38155.0, 38143.0, 38013.0, 37796.0, 37728.0, 37579.0, 37498.0, 37339.0, 37294.0, 37187.0, 37139.0, 36931.0, 36846.0, 36669.0, 36628.0, 36473.0, 36406.0, 36175.0, 36036.0, 35916.0, 35871.0, 35751.0, 35573.0, 35420.0, 35218.0, 34734.0, 34708.0, 34594.0, 34498.0, 34397.0, 34357.0, 34351.0, 34238.0, 34091.0, 34016.0, 33797.0, 33784.0, 33751.0, 33450.0, 33407.0, 33225.0, 33147.0, 33115.0, 33110.0, 32932.0, 32895.0, 32886.0, 32616.0, 32578.0, 32488.0, 32237.0, 32230.0, 32184.0, 32088.0, 31974.0, 31773.0, 31703.0, 31519.0, 31350.0, 31340.0, 31220.0, 31121.0, 31087.0, 31060.0, 30996.0, 30842.0, 30530.0, 30342.0, 30240.0, 30058.0, 29964.0, 29931.0, 29853.0, 29602.0, 29596.0, 29508.0, 29379.0, 29197.0, 28849.0, 28555.0, 28499.0, 28414.0, 27831.0, 27419.0, 27147.0, 26851.0, 26619.0, 26431.0, 26356.0, 26307.0, 25956.0, 25954.0, 25723.0, 25682.0, 25223.0, 24870.0, 24801.0, 24391.0, 24253.0, 24209.0, 24133.0, 24000.0, 23995.0, 23811.0, 23810.0, 23748.0, 23721.0, 23703.0, 23437.0, 23003.0, 22845.0, 22659.0, 22603.0, 22595.0, 22458.0, 22285.0, 22259.0, 21985.0, 21974.0, 21788.0, 21590.0, 21578.0, 21358.0, 21310.0, 21296.0, 21221.0, 21035.0, 20852.0, 20829.0, 20816.0, 20670.0, 20508.0, 20417.0, 20403.0, 20126.0, 19780.0, 19763.0, 19449.0, 19402.0, 19371.0, 18979.0, 18872.0, 18851.0, 18776.0, 18529.0, 18521.0, 18250.0, 17945.0, 17848.0, 17804.0, 17634.0, 17594.0, 17254.0, 17248.0, 17209.0, 17168.0, 17040.0, 16972.0, 16881.0, 16479.0, 16478.0, 16395.0, 16333.0, 16320.0, 16239.0, 16121.0, 16113.0, 16061.0, 15898.0, 15555.0, 15457.0, 15389.0, 15262.0, 14803.0, 14770.0, 14758.0, 14724.0, 14519.0, 14340.0, 14136.0, 14084.0, 13961.0, 13731.0, 13600.0, 13463.0, 13269.0, 13248.0, 13168.0, 13074.0, 12904.0, 12830.0, 12649.0, 12459.0, 12376.0, 12218.0, 12062.0, 11937.0, 11896.0, 11878.0, 11797.0, 11549.0, 11531.0, 11152.0, 10648.0, 10550.0, 10269.0, 9313.0, 8951.0, 8914.0, 8852.0, 8818.0, 8791.0, 8698.0, 8673.0, 8659.0, 8556.0, 8508.0, 8342.0, 8316.0, 8128.0, 7961.0, 7921.0, 7841.0, 7715.0, 7706.0, 7652.0, 7649.0, 7644.0, 7218.0, 7200.0, 7110.0, 7026.0, 7025.0, 6858.0, 6775.0, 6623.0, 6421.0, 6190.0, 6153.0, 6136.0, 6119.0, 6028.0, 5931.0, 5784.0, 5752.0, 5600.0, 5522.0, 5485.0, 5369.0, 5220.0, 5201.0, 5129.0, 4869.0, 4816.0, 4780.0, 4648.0, 4640.0, 4627.0, 4568.0, 4424.0, 4379.0, 4307.0, 4108.0, 4034.0, 3921.0, 3899.0, 3888.0, 3840.0, 3797.0, 3701.0, 3480.0, 3476.0, 3378.0, 3337.0, 3208.0, 3046.0, 2839.0, 2782.0, 2637.0, 2510.0, 2458.0, 2443.0, 2419.0, 2349.0, 2130.0, 1880.0, 1879.0, 1826.0, 1793.0, 1703.0, 1568.0, 1550.0, 1508.0, 1426.0, 1411.0, 1251.0, 1216.0, 1086.0, 918.0, 835.0, 644.0, 288.0, 208.0, 185.0, 114.0, 74.0, 63.0, 17.0]|[]                 |\n",
      "|2            |[1.0, 48.0, 136.0, 97.0, 47.0, 68.0, 245.0, 359.0, 54.0, 14.0]    |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|[97.0]             |\n",
      "|6            |[16.0, 15.0, 12.0, 10.0, 67.0, 205.0, 39.0, 40.0, 137.0, 8.0]     |[5.0, 1136.0, 24188.0, 216.0, 1085.0, 1278.0, 145.0, 413.0, 3182.0, 157.0, 23801.0, 1104.0, 132.0, 25539.0, 4246.0, 71491.0, 8709.0, 8237.0, 2910.0, 4185.0, 3145.0, 62.0, 54.0, 65685.0, 50296.0, 38659.0, 2754.0, 1214.0, 148.0, 19149.0, 1029.0, 11940.0, 6280.0, 6135.0, 669.0, 517.0, 31880.0, 15836.0, 15495.0, 15037.0, 8138.0, 6270.0, 5499.0, 3000.0, 1584.0, 1119.0, 923.0, 476.0, 448.0, 256.0, 130.0, 54788.0, 42766.0, 34989.0, 29739.0, 16686.0, 13449.0, 10369.0, 6825.0, 5015.0, 3688.0, 2782.0, 2666.0, 2076.0, 1616.0, 1476.0, 1209.0, 1062.0, 638.0, 634.0, 494.0, 80.0, 15.0, 32363.0, 28541.0, 27932.0, 17727.0, 15431.0, 8251.0, 6205.0, 6200.0, 5870.0, 5520.0, 5483.0, 4706.0, 3844.0, 3297.0, 2862.0, 2037.0, 1930.0, 1891.0, 1884.0, 1679.0, 1433.0, 1291.0, 1260.0, 901.0, 20.0, 16.0, 72424.0, 68289.0, 62902.0, 55101.0, 52302.0, 48221.0, 42883.0, 38118.0, 33400.0, 28841.0, 27230.0, 27059.0, 26286.0, 25324.0, 24139.0, 23072.0, 17869.0, 15326.0, 15187.0, 12206.0, 10035.0, 9793.0, 9244.0, 9184.0, 6525.0, 5185.0, 4204.0, 4152.0, 3495.0, 3457.0, 3441.0, 3253.0, 3157.0, 2960.0, 2787.0, 2327.0, 2226.0, 2114.0, 1313.0, 1295.0, 1231.0, 1224.0, 854.0, 723.0, 706.0, 574.0, 552.0, 449.0, 422.0, 352.0, 315.0, 309.0, 237.0, 185.0, 78.0, 69.0, 41.0, 30.0, 78861.0, 73477.0, 71344.0, 71227.0, 69692.0, 67774.0, 64892.0, 64001.0, 62345.0, 58552.0, 58155.0, 57447.0, 57426.0, 57263.0, 57256.0, 55726.0, 54650.0, 53072.0, 48933.0, 45538.0, 44414.0, 44373.0, 44141.0, 43566.0, 43413.0, 40885.0, 40409.0, 39831.0, 38971.0, 37991.0, 37021.0, 36456.0, 34796.0, 34671.0, 33936.0, 33523.0, 33438.0, 31579.0, 29604.0, 28914.0, 28880.0, 28750.0, 28516.0, 27931.0, 27627.0, 25989.0, 25928.0, 25900.0, 25434.0, 25131.0, 24695.0, 24383.0, 24175.0, 23923.0, 23911.0, 23850.0, 23826.0, 23797.0, 23749.0, 23541.0, 22312.0, 22220.0, 21939.0, 21256.0, 21179.0, 21109.0, 21073.0, 20526.0, 19847.0, 19598.0, 19526.0, 18609.0, 18506.0, 18262.0, 18172.0, 17123.0, 16326.0, 15658.0, 14890.0, 14400.0, 14168.0, 13869.0, 13681.0, 12769.0, 12605.0, 12439.0, 12209.0, 12135.0, 11799.0, 11357.0, 11337.0, 11280.0, 11074.0, 10702.0, 10622.0, 10220.0, 10129.0, 9608.0, 9463.0, 9373.0, 9084.0, 8704.0, 8054.0, 7882.0, 7859.0, 7817.0, 7736.0, 7596.0, 7464.0, 7290.0, 6662.0, 6507.0, 6450.0, 6383.0, 6370.0, 6314.0, 6245.0, 5944.0, 5845.0, 5738.0, 5572.0, 5453.0, 5433.0, 5184.0, 5150.0, 4937.0, 4847.0, 4781.0, 4632.0, 4370.0, 4281.0, 4157.0, 4002.0, 3950.0, 3886.0, 3777.0, 3415.0, 3201.0, 3183.0, 3123.0, 3116.0, 3091.0, 3028.0, 2758.0, 2753.0, 2690.0, 2562.0, 2505.0, 2203.0, 2201.0, 2175.0, 2110.0, 2107.0, 2099.0, 2041.0, 1919.0, 1857.0, 1850.0, 1804.0, 1783.0, 1766.0, 1686.0, 1637.0, 1614.0, 1579.0, 1381.0, 1380.0, 1228.0, 1168.0, 1088.0, 1024.0, 1010.0, 930.0, 788.0, 741.0, 726.0, 689.0, 642.0, 622.0, 583.0, 578.0, 546.0, 359.0, 341.0, 319.0, 316.0, 302.0, 284.0, 261.0, 243.0, 195.0, 194.0, 180.0, 113.0, 106.0, 87.0, 84.0, 77.0, 25.0]                                                                                                                                                                                                                                                                                                                                                                                                                                                                                                                                                                                                                                                                                                                                                                                                                                                                                                                                                                                                                                                                                                                                                                                                                                                                                                                                                                                                                                                                                                                                                                                                                                                                                                                                                                                                                                                                                                                                                                                                                                                                                                                                                                                                                                                                                                                                                                                                                                                                                                                                                                                                                                                                                                                                                                                                                                                                                                                                                                         |[16.0, 15.0]       |\n",
      "|13           |[1.0, 14.0, 97.0, 201.0, 11.0, 16.0, 217.0, 297.0, 68.0, 24.0]    |[1816.0, 21.0, 248.0, 199.0, 901.0, 269.0, 551.0, 1884.0, 1605.0, 723.0, 717.0, 813.0, 89.0, 5437.0, 2808.0, 1635.0, 448.0, 350.0, 2782.0, 612.0, 2835.0, 1766.0, 1546.0, 1271.0, 1246.0, 587.0, 530.0, 320.0, 3077.0, 2661.0, 674.0, 315.0, 71.0, 5778.0, 3600.0, 1750.0, 1515.0, 839.0, 374.0, 287.0, 255.0, 174.0, 170.0, 146.0, 141.0, 119.0, 116.0, 114.0, 110.0, 103.0, 50.0, 9.0, 5947.0, 5183.0, 4173.0, 3084.0, 2304.0, 1838.0, 1599.0, 1527.0, 1396.0, 1127.0, 609.0, 361.0, 80.0, 26.0, 11.0, 28122.0, 16737.0, 15797.0, 9614.0, 6061.0, 3206.0, 2780.0, 2307.0, 2157.0, 1866.0, 1465.0, 957.0, 917.0, 844.0, 694.0, 469.0, 330.0, 41.0, 8149.0, 7281.0, 5904.0, 5800.0, 5669.0, 4924.0, 4742.0, 4652.0, 4380.0, 4187.0, 3950.0, 3898.0, 3821.0, 3495.0, 3490.0, 3230.0, 2700.0, 2384.0, 1927.0, 1924.0, 1614.0, 1571.0, 1386.0, 1255.0, 1160.0, 942.0, 728.0, 558.0, 543.0, 342.0, 151.0, 21801.0, 20887.0, 17543.0, 17037.0, 15673.0, 14917.0, 13813.0, 13285.0, 10778.0, 7017.0, 6798.0, 6732.0, 6626.0, 6336.0, 5951.0, 5853.0, 5373.0, 4538.0, 4499.0, 4456.0, 4139.0, 4022.0, 3886.0, 3777.0, 3567.0, 3457.0, 3403.0, 3292.0, 3282.0, 3221.0, 3118.0, 3068.0, 2857.0, 2791.0, 2493.0, 2263.0, 2177.0, 2161.0, 2023.0, 1721.0, 1693.0, 1539.0, 1466.0, 1252.0, 344.0, 260.0, 71889.0, 71370.0, 60044.0, 45252.0, 43399.0, 42309.0, 42294.0, 41262.0, 39169.0, 37455.0, 35560.0, 31962.0, 31704.0, 30953.0, 29375.0, 28470.0, 27846.0, 27449.0, 26842.0, 26118.0, 25530.0, 24723.0, 23712.0, 23676.0, 22838.0, 22822.0, 22685.0, 22359.0, 21810.0, 21610.0, 21319.0, 20998.0, 20968.0, 20889.0, 20522.0, 19766.0, 19713.0, 19684.0, 19361.0, 19304.0, 18982.0, 18949.0, 18420.0, 17739.0, 17514.0, 17387.0, 17132.0, 16870.0, 16136.0, 15338.0, 15069.0, 14654.0, 14620.0, 14581.0, 14498.0, 14292.0, 14221.0, 14097.0, 13657.0, 13371.0, 12464.0, 12247.0, 12180.0, 12130.0, 11462.0, 11214.0, 10890.0, 10750.0, 10433.0, 10209.0, 9951.0, 9657.0, 9591.0, 9544.0, 9298.0, 9127.0, 9036.0, 8816.0, 8598.0, 8372.0, 8320.0, 8116.0, 7710.0, 7683.0, 7667.0, 7440.0, 7431.0, 7384.0, 6981.0, 6920.0, 6800.0, 6662.0, 5643.0, 5564.0, 5398.0, 5329.0, 5326.0, 5309.0, 5042.0, 4799.0, 4372.0, 4169.0, 4060.0, 3988.0, 3615.0, 3415.0, 3391.0, 3372.0, 3164.0, 3157.0, 3133.0, 3120.0, 3106.0, 3038.0, 2939.0, 2792.0, 2693.0, 2215.0, 2026.0, 1736.0, 1674.0, 1409.0, 1368.0, 1175.0, 968.0, 955.0, 940.0, 860.0, 621.0, 568.0, 437.0, 349.0, 340.0, 220.0, 183.0, 64.0]                                                                                                                                                                                                                                                                                                                                                                                                                                                                                                                                                                                                                                                                                                                                                                                                                                                                                                                                                                                                                                                                                                                                                                                                                                                                                                                                                                                                                                                                                                                                                                                                                                                                                                                                                                                                                                                                                                                                                                                                                                                                                                                                                                                                                                                                                                                                                                                                                                                                                                                                                                                                                                                                                                                                                                                                                                                                                                                                                                                                                                                                                                                                                                                                                                                                                                                                                                                                                                                                                                                |[11.0]             |\n",
      "|10           |[24.0, 62.0, 28.0, 122.0, 139.0, 108.0, 105.0, 182.0, 27.0, 150.0]|[35761.0, 4095.0, 17822.0, 70216.0, 17429.0, 14996.0, 14497.0, 6206.0, 5657.0, 196.0, 10933.0, 44475.0, 36628.0, 36611.0, 33459.0, 16812.0, 12112.0, 9490.0, 4086.0, 200.0, 65974.0, 45707.0, 43367.0, 42588.0, 40067.0, 38800.0, 36276.0, 29369.0, 25248.0, 22341.0, 21136.0, 20910.0, 17449.0, 17354.0, 15671.0, 13829.0, 12802.0, 11905.0, 10759.0, 10415.0, 10407.0, 8790.0, 8787.0, 6280.0, 6180.0, 6065.0, 5486.0, 4801.0, 4232.0, 3372.0, 1864.0, 1602.0, 814.0, 462.0, 404.0, 353.0, 18.0, 78364.0, 74757.0, 71950.0, 69477.0, 68539.0, 67691.0, 67115.0, 67027.0, 63202.0, 63136.0, 62164.0, 61934.0, 61733.0, 61667.0, 60846.0, 60786.0, 60230.0, 59442.0, 59432.0, 58535.0, 54891.0, 54257.0, 53183.0, 52956.0, 52598.0, 51793.0, 50186.0, 49709.0, 49496.0, 49161.0, 48344.0, 47128.0, 45657.0, 45088.0, 44244.0, 43464.0, 43423.0, 42229.0, 42151.0, 42107.0, 41892.0, 41472.0, 41360.0, 40651.0, 40128.0, 39510.0, 39087.0, 38649.0, 36011.0, 35549.0, 35149.0, 35057.0, 34414.0, 34115.0, 33879.0, 33580.0, 33301.0, 33064.0, 32851.0, 32159.0, 31758.0, 31642.0, 31287.0, 30158.0, 29571.0, 29519.0, 29467.0, 29124.0, 28551.0, 28459.0, 27767.0, 27329.0, 27120.0, 27050.0, 27010.0, 26568.0, 26559.0, 25768.0, 25713.0, 25571.0, 24490.0, 24441.0, 23934.0, 23505.0, 22907.0, 22855.0, 22655.0, 22453.0, 22333.0, 22278.0, 21983.0, 21775.0, 21755.0, 21625.0, 21355.0, 21219.0, 21041.0, 20684.0, 20370.0, 20264.0, 19961.0, 19858.0, 19857.0, 19686.0, 19453.0, 19317.0, 19261.0, 18130.0, 17964.0, 17425.0, 17314.0, 17288.0, 17156.0, 16988.0, 16815.0, 16791.0, 16771.0, 16641.0, 16245.0, 16144.0, 16142.0, 16084.0, 15918.0, 15838.0, 15701.0, 15650.0, 15609.0, 15547.0, 15101.0, 15080.0, 14751.0, 14670.0, 14591.0, 14524.0, 14093.0, 13095.0, 13030.0, 12908.0, 12726.0, 12472.0, 12257.0, 11683.0, 11597.0, 11570.0, 11066.0, 11014.0, 10817.0, 10390.0, 10059.0, 9641.0, 9622.0, 9592.0, 9231.0, 9129.0, 9023.0, 8915.0, 8869.0, 8803.0, 8751.0, 8692.0, 8402.0, 8399.0, 8380.0, 8092.0, 8075.0, 8008.0, 7944.0, 7448.0, 7440.0, 7371.0, 7305.0, 7215.0, 7206.0, 7204.0, 7187.0, 6498.0, 6301.0, 6260.0, 6099.0, 6041.0, 5707.0, 5688.0, 5601.0, 5467.0, 5348.0, 5325.0, 5201.0, 5114.0, 5011.0, 4872.0, 4821.0, 4779.0, 4492.0, 4412.0, 4317.0, 4172.0, 4157.0, 4145.0, 3999.0, 3942.0, 3697.0, 3652.0, 3599.0, 3594.0, 3576.0, 3464.0, 2685.0, 2671.0, 2607.0, 2594.0, 2582.0, 2413.0, 2357.0, 2334.0, 2332.0, 2309.0, 2256.0, 2151.0, 2107.0, 1938.0, 1738.0, 1731.0, 1663.0, 1613.0, 1599.0, 1473.0, 1460.0, 1453.0, 1189.0, 1082.0, 1078.0, 1040.0, 1020.0, 945.0, 860.0, 656.0, 627.0, 497.0, 470.0, 457.0, 418.0, 361.0, 265.0, 225.0, 210.0, 190.0, 91.0, 14.0]                                                                                                                                                                                                                                                                                                                                                                                                                                                                                                                                                                                                                                                                                                                                                                                                                                                                                                                                                                                                                                                                                                                                                                                                                                                                                                                                                                                                                                                                                                                                                                                                                                                                                                                                                                                                                                                                                                                                                                                                                                                                                                                                                                                                                                                                                                                                                                                                                                                                                                                                                                                                                                                                                                                                                                                                                                                                                                                                                                                                                                                                                                                                                                                                                                                                                               |[]                 |\n",
      "|5            |[14.0, 28.0, 42.0, 33.0, 1.0, 16.0, 0.0, 40.0, 41.0, 8.0]         |[1719.0, 13835.0, 1080.0, 1072.0, 27630.0, 19109.0, 2169.0, 62665.0, 49057.0, 25218.0, 3862.0, 93.0, 53127.0, 8855.0, 65655.0, 23329.0, 15677.0, 1210.0, 65419.0, 47971.0, 47710.0, 42511.0, 41507.0, 31883.0, 28791.0, 21477.0, 20409.0, 19721.0, 16725.0, 16373.0, 11530.0, 9818.0, 1590.0, 397.0, 278.0, 35512.0, 2383.0, 1237.0, 0.0, 65057.0, 59755.0, 34321.0, 24560.0, 14049.0, 7652.0, 6464.0, 6333.0, 3926.0, 3090.0, 2255.0, 1718.0, 1648.0, 970.0, 939.0, 76.0, 68757.0, 54838.0, 47458.0, 28917.0, 24751.0, 22461.0, 22236.0, 21721.0, 20875.0, 19519.0, 18662.0, 17885.0, 17620.0, 14476.0, 14318.0, 14257.0, 14237.0, 11614.0, 11050.0, 10952.0, 10428.0, 10267.0, 8361.0, 7314.0, 7161.0, 7086.0, 6086.0, 5971.0, 4406.0, 4310.0, 4072.0, 3198.0, 2849.0, 2382.0, 2183.0, 2092.0, 1578.0, 701.0, 695.0, 508.0, 396.0, 107.0, 75619.0, 75007.0, 74311.0, 72333.0, 72085.0, 70487.0, 68292.0, 68200.0, 67050.0, 66355.0, 66264.0, 64412.0, 63588.0, 62174.0, 62159.0, 62139.0, 61746.0, 60120.0, 59996.0, 59513.0, 59450.0, 58585.0, 58171.0, 56698.0, 55286.0, 55271.0, 55256.0, 53718.0, 51059.0, 48968.0, 47495.0, 46936.0, 46910.0, 46076.0, 45880.0, 45261.0, 44634.0, 43559.0, 42808.0, 42526.0, 42484.0, 42103.0, 41645.0, 41580.0, 41198.0, 40740.0, 38776.0, 38452.0, 38087.0, 37763.0, 36951.0, 36790.0, 36156.0, 36022.0, 36018.0, 35570.0, 35344.0, 35279.0, 35039.0, 33305.0, 33282.0, 33092.0, 32882.0, 32724.0, 32162.0, 31970.0, 31809.0, 31676.0, 31568.0, 30493.0, 30345.0, 29691.0, 29265.0, 29166.0, 28999.0, 28922.0, 28678.0, 28551.0, 28326.0, 28007.0, 27114.0, 26944.0, 26871.0, 26842.0, 25124.0, 24957.0, 24899.0, 24823.0, 24684.0, 24602.0, 24542.0, 23892.0, 23672.0, 23467.0, 23408.0, 23245.0, 23222.0, 23079.0, 22692.0, 22549.0, 22404.0, 21931.0, 20997.0, 20966.0, 20574.0, 20005.0, 19188.0, 19129.0, 18904.0, 18663.0, 17618.0, 17596.0, 17098.0, 17062.0, 17036.0, 16840.0, 16363.0, 16256.0, 15940.0, 15907.0, 15773.0, 15610.0, 15562.0, 15312.0, 14777.0, 14684.0, 14545.0, 14373.0, 14172.0, 14018.0, 13826.0, 13692.0, 13455.0, 13263.0, 13250.0, 12835.0, 12776.0, 12661.0, 12636.0, 12618.0, 12598.0, 11922.0, 11917.0, 11861.0, 11624.0, 11363.0, 11293.0, 11291.0, 11239.0, 10785.0, 10678.0, 10231.0, 9946.0, 9942.0, 9896.0, 9876.0, 9798.0, 9754.0, 9742.0, 9703.0, 9622.0, 9013.0, 8776.0, 8721.0, 8705.0, 8672.0, 8619.0, 8405.0, 8370.0, 8353.0, 8137.0, 7968.0, 7622.0, 7554.0, 7393.0, 7240.0, 7230.0, 7108.0, 6893.0, 6877.0, 6674.0, 6612.0, 6176.0, 5994.0, 5805.0, 5749.0, 5670.0, 5420.0, 5291.0, 5057.0, 5026.0, 4903.0, 4651.0, 4608.0, 4509.0, 4413.0, 4404.0, 4402.0, 4302.0, 4286.0, 4226.0, 4116.0, 4103.0, 4055.0, 3887.0, 3765.0, 3699.0, 3653.0, 3547.0, 3398.0, 3143.0, 3120.0, 3044.0, 2551.0, 2532.0, 2526.0, 2512.0, 2446.0, 2416.0, 2159.0, 2150.0, 2029.0, 2024.0, 1977.0, 1912.0, 1748.0, 1741.0, 1668.0, 1604.0, 1567.0, 1490.0, 1268.0, 1192.0, 1182.0, 1111.0, 1046.0, 1028.0, 993.0, 990.0, 925.0, 873.0, 863.0, 836.0, 770.0, 765.0, 719.0, 650.0, 639.0, 636.0, 557.0, 550.0, 490.0, 422.0, 392.0, 379.0, 367.0, 325.0, 170.0, 138.0, 128.0, 101.0, 88.0, 53.0, 49.0, 10.0]                                                                                                                                                                                                                                                                                                                                                                                                                                                                                                                                                                                                                                                                                                                                                                                                                                                                                                                                                                                                                                                                                                                                                                                                                                                                                                                                                                                                                                                                                                                                                                                                                                                                                                                                                                                                                                                                                                                                                                                                                                                                                                                                                                                                                                                                                                                                                                                                                                                                                                                                                                                                                                                                                                                                                                                                                          |[0.0]              |\n",
      "|8            |[47.0, 42.0, 213.0, 33.0, 402.0, 134.0, 335.0, 66.0, 217.0, 318.0]|[17865.0, 13356.0, 155.0, 97.0, 5.0, 23358.0, 27603.0, 36075.0, 38.0, 394.0, 93.0, 94.0, 5222.0, 11.0, 32552.0, 77.0, 28780.0, 2718.0, 1292.0, 20468.0, 4948.0, 3468.0, 35.0, 4776.0, 6105.0, 14.0, 593.0, 33.0, 78070.0, 3919.0, 398.0, 45.0, 75143.0, 70564.0, 1589.0, 578.0, 378.0, 51557.0, 43231.0, 39140.0, 3026.0, 907.0, 9823.0, 9422.0, 4902.0, 590.0, 149.0, 40.0, 57428.0, 20812.0, 8443.0, 625.0, 205.0, 117.0, 51200.0, 43795.0, 16845.0, 15272.0, 10301.0, 7253.0, 2334.0, 2083.0, 1170.0, 246.0, 226.0, 184.0, 167.0, 109.0, 78.0, 3291.0, 1543.0, 140.0, 119.0, 26.0, 17.0, 59391.0, 53171.0, 51558.0, 32525.0, 15618.0, 8355.0, 5291.0, 3067.0, 2802.0, 1374.0, 218.0, 164.0, 129.0, 121.0, 113.0, 87.0, 43809.0, 41805.0, 37429.0, 30866.0, 12108.0, 6957.0, 6646.0, 4168.0, 2183.0, 1572.0, 1369.0, 1047.0, 783.0, 657.0, 617.0, 352.0, 333.0, 331.0, 215.0, 137.0, 125.0, 43.0, 39.0, 62827.0, 28684.0, 24274.0, 21317.0, 8427.0, 8166.0, 5724.0, 5238.0, 5212.0, 4818.0, 4761.0, 3793.0, 2031.0, 1732.0, 1204.0, 956.0, 889.0, 819.0, 70.0, 68.0, 66.0, 15.0, 74820.0, 72056.0, 63122.0, 51154.0, 44531.0, 40249.0, 33701.0, 28845.0, 25979.0, 23255.0, 20744.0, 20057.0, 18665.0, 16913.0, 14160.0, 9085.0, 8709.0, 5799.0, 4803.0, 4016.0, 3616.0, 3394.0, 3306.0, 2548.0, 2167.0, 1759.0, 1524.0, 1210.0, 881.0, 349.0, 325.0, 189.0, 156.0, 132.0, 105.0, 77175.0, 74530.0, 71432.0, 67083.0, 65071.0, 64268.0, 58298.0, 58271.0, 56687.0, 51350.0, 50749.0, 47999.0, 45549.0, 42016.0, 41685.0, 41050.0, 40891.0, 40274.0, 40188.0, 39940.0, 36513.0, 35116.0, 34779.0, 34176.0, 33739.0, 33579.0, 32167.0, 31465.0, 30510.0, 28724.0, 28373.0, 28144.0, 28082.0, 27844.0, 27786.0, 26742.0, 26039.0, 25155.0, 24444.0, 24068.0, 23010.0, 22389.0, 22278.0, 21946.0, 21925.0, 21259.0, 20872.0, 19960.0, 18965.0, 18918.0, 18869.0, 18381.0, 18317.0, 17585.0, 17286.0, 17018.0, 15820.0, 15717.0, 14547.0, 14542.0, 14512.0, 14279.0, 14226.0, 14179.0, 14064.0, 13152.0, 12716.0, 12545.0, 12509.0, 12413.0, 12335.0, 12258.0, 12174.0, 12053.0, 11924.0, 11771.0, 11210.0, 11201.0, 11017.0, 10878.0, 10797.0, 10256.0, 9858.0, 9439.0, 9416.0, 8777.0, 8755.0, 8053.0, 7186.0, 7067.0, 6797.0, 6775.0, 6732.0, 6192.0, 6092.0, 5951.0, 5546.0, 5209.0, 5196.0, 5083.0, 5076.0, 4790.0, 4621.0, 4573.0, 4116.0, 4109.0, 3847.0, 3776.0, 3714.0, 3556.0, 3462.0, 3408.0, 3371.0, 3316.0, 3190.0, 3175.0, 2903.0, 2309.0, 2285.0, 2232.0, 2071.0, 1851.0, 1728.0, 1435.0, 1425.0, 1403.0, 1098.0, 1076.0, 1007.0, 999.0, 990.0, 697.0, 658.0, 615.0, 533.0, 478.0, 463.0, 402.0, 369.0, 312.0, 273.0, 265.0, 221.0, 89.0]                                                                                                                                                                                                                                                                                                                                                                                                                                                                                                                                                                                                                                                                                                                                                                                                                                                                                                                                                                                                                                                                                                                                                                                                                                                                                                                                                                                                                                                                                                                                                                                                                                                                                                                                                                                                                                                                                                                                                                                                                                                                                                                                                                                                                                                                                                                                                                                                                                                                                                                                                                                                                                                                                                                                                                                                                                                                                                                                                                                                                                                                                                                                                                                                                                                                                                                                                 |[33.0, 402.0, 66.0]|\n",
      "+-------------+------------------------------------------------------------------+-----------------------------------------------------------------------------------------------------------------------------------------------------------------------------------------------------------------------------------------------------------------------------------------------------------------------------------------------------------------------------------------------------------------------------------------------------------------------------------------------------------------------------------------------------------------------------------------------------------------------------------------------------------------------------------------------------------------------------------------------------------------------------------------------------------------------------------------------------------------------------------------------------------------------------------------------------------------------------------------------------------------------------------------------------------------------------------------------------------------------------------------------------------------------------------------------------------------------------------------------------------------------------------------------------------------------------------------------------------------------------------------------------------------------------------------------------------------------------------------------------------------------------------------------------------------------------------------------------------------------------------------------------------------------------------------------------------------------------------------------------------------------------------------------------------------------------------------------------------------------------------------------------------------------------------------------------------------------------------------------------------------------------------------------------------------------------------------------------------------------------------------------------------------------------------------------------------------------------------------------------------------------------------------------------------------------------------------------------------------------------------------------------------------------------------------------------------------------------------------------------------------------------------------------------------------------------------------------------------------------------------------------------------------------------------------------------------------------------------------------------------------------------------------------------------------------------------------------------------------------------------------------------------------------------------------------------------------------------------------------------------------------------------------------------------------------------------------------------------------------------------------------------------------------------------------------------------------------------------------------------------------------------------------------------------------------------------------------------------------------------------------------------------------------------------------------------------------------------------------------------------------------------------------------------------------------------------------------------------------------------------------------------------------------------------------------------------------------------------------------------------------------------------------------------------------------------------------------------------------------------------------------------------------------------------------------------------------------------------------------------------------------------------------------------------------------------------------------------------------------------------------------------------------------------------------------------------------------------------------------------------------------------------------------------------------------------------------------------------------------------------------------------------------------------------------------------------------------------------------------------------------------------------------------------------------------------------------------------------------------------------------------------------------------------------------------------------------------------------------------------------------------------------------------------------------------------------------------------------------------------------------------------------------------------------------------------------------------------------------------------------------------------------------------------------------------------------------------------------------------------------------------------------------------------------------------------------------------------------------------------------------------------------------------------------------------------------------------------------------------------------------------------------------------------------------------------------------------------------------------------------------------------------------------------------------------------------------------------------------------------------------------------------------------------------------------------------------------------------------------------------------------------------------------------------------------------------------------------------------------------------------------------------------------------------------------------------------------------------------------------+-------------------+\n"
     ]
    },
    {
     "name": "stdout",
     "output_type": "stream",
     "text": [
      "\n"
     ]
    }
   ],
   "source": [
    "common = temp.withColumn(\"overlap\", F.array_intersect(temp.recommendations, temp.relevant))\n",
    "show_as_html(common)\n",
    "# common.show(truncate=False)\n",
    "\n",
    "\n",
    "# i had to rerun this to get my overlap table while writing the report\n",
    "# so uhhhhh if the values dont match up with other stuff just ignore that ok thanks"
   ]
  },
  {
   "cell_type": "markdown",
   "metadata": {},
   "source": [
    "### Q2c"
   ]
  },
  {
   "cell_type": "code",
   "execution_count": 30,
   "metadata": {},
   "outputs": [
    {
     "name": "stdout",
     "output_type": "stream",
     "text": [
      "metrics for implicit feedback\n",
      "\n",
      "precision @ K: 0.06667\n",
      "MAP @ K:       0.04744\n",
      "NDCG @ K:      0.08588\n",
      "\n"
     ]
    }
   ],
   "source": [
    "# Metrics\n",
    "\n",
    "k = 10\n",
    "\n",
    "evaluator = RankingEvaluator(predictionCol=\"recommendations\", labelCol=\"relevant\")\n",
    "\n",
    "precisionAtK = evaluator.evaluate(temp, {evaluator.metricName: \"precisionAtK\",            evaluator.k: k})\n",
    "mapAtK       = evaluator.evaluate(temp, {evaluator.metricName: \"meanAveragePrecisionAtK\", evaluator.k: k})\n",
    "ndcgAtK      = evaluator.evaluate(temp, {evaluator.metricName: \"ndcgAtK\",                 evaluator.k: k})\n",
    "\n",
    "print(f'metrics for implicit feedback')\n",
    "print(f'')\n",
    "print(f'precision @ K: {precisionAtK:.5f}')\n",
    "print(f'MAP @ K:       {mapAtK:.5f}')\n",
    "print(f'NDCG @ K:      {ndcgAtK:.5f}')\n",
    "print(f'')"
   ]
  },
  {
   "cell_type": "markdown",
   "metadata": {},
   "source": [
    "# Bonus (aka trying to improve my metrics)"
   ]
  },
  {
   "cell_type": "markdown",
   "metadata": {},
   "source": [
    "### lowering thresholds\n",
    "I also tried 10 as the threshold for both but that was a struggle so I switched to just lowering the song (cause lowering the user threshold adds a LOT of users when there are over 1M users"
   ]
  },
  {
   "cell_type": "markdown",
   "metadata": {},
   "source": [
    "I kind of messed around with this same section several times with different thresholds so you wont see all of them in here"
   ]
  },
  {
   "cell_type": "code",
   "execution_count": 55,
   "metadata": {},
   "outputs": [],
   "source": [
    "# everything except thresholds is the same (50 to 10 song)\n",
    "\n",
    "user_threshold=75 # N\n",
    "song_threshold=75 # M\n",
    "\n",
    "threshold_users_plays = (triplets\n",
    "                         .groupBy(\"user_id\")\n",
    "                         .agg(F.count(\"plays\").alias(\"user_total_plays\"))\n",
    "                         .filter(F.col(\"user_total_plays\")>=user_threshold)\n",
    "                         .join(triplets, on=\"user_id\", how=\"left\"))\n",
    "\n",
    "\n",
    "threshold_data = (threshold_users_plays\n",
    "                  .groupBy(\"song_id\")\n",
    "                  .agg(F.count(\"plays\").alias(\"song_total_plays\"))\n",
    "                  .filter(F.col(\"song_total_plays\")>=song_threshold)\n",
    "                  .join(threshold_users_plays, on=\"song_id\", how=\"left\")\n",
    "                  .drop(\"user_total_plays\", \"song_total_plays\"))"
   ]
  },
  {
   "cell_type": "code",
   "execution_count": 56,
   "metadata": {},
   "outputs": [
    {
     "data": {
      "text/plain": [
       "DataFrame[user_id: string, song_id: string, plays: int]"
      ]
     },
     "execution_count": 56,
     "metadata": {},
     "output_type": "execute_result"
    }
   ],
   "source": [
    "training, test_unmatched = threshold_data.randomSplit([0.75, 0.25]) \n",
    "training.cache()\n",
    "test_unmatched.cache()\n",
    "\n",
    "test=test_unmatched.join(training, on=\"user_id\", how=\"left_semi\")\n",
    "test.cache()"
   ]
  },
  {
   "cell_type": "code",
   "execution_count": 57,
   "metadata": {},
   "outputs": [],
   "source": [
    "indexer = [StringIndexer(\n",
    "    inputCol=column, outputCol=column+\"_index\") for column in list(set(training.columns)-set(['plays']))]\n",
    "\n",
    "pipeline = Pipeline(stages=indexer)\n",
    "\n",
    "\n",
    "transformed_training = pipeline.fit(training).transform(training)\n",
    "transformed_test = pipeline.fit(test).transform(test)"
   ]
  },
  {
   "cell_type": "code",
   "execution_count": 58,
   "metadata": {},
   "outputs": [
    {
     "data": {
      "text/plain": [
       "DataFrame[user_id: string, song_id: string, plays: int, user_id_index: double, song_id_index: double, prediction: float]"
      ]
     },
     "execution_count": 58,
     "metadata": {},
     "output_type": "execute_result"
    }
   ],
   "source": [
    "als = ALS(maxIter=5, regParam=0.01, userCol=\"user_id_index\", \n",
    "          itemCol=\"song_id_index\", ratingCol=\"plays\", implicitPrefs=True)\n",
    "\n",
    "alsModel = als.fit(transformed_training)\n",
    "\n",
    "\n",
    "pred = alsModel.transform(transformed_test)\n",
    "pred.cache()"
   ]
  },
  {
   "cell_type": "code",
   "execution_count": 59,
   "metadata": {},
   "outputs": [],
   "source": [
    "top_users_inTest = (transformed_test\n",
    "                    .groupBy(\"user_id\")\n",
    "                    .agg(F.count(\"plays\").alias(\"user_total_plays\"))\n",
    "                    .orderBy(F.col(\"user_total_plays\").desc())\n",
    "                    .limit(15)\n",
    "                    .select(F.col(\"user_id\"))\n",
    "                    .join(transformed_test, on=\"user_id\", how=\"left\"))\n",
    "\n",
    "\n",
    "top_user_ids = (top_users_inTest.select(F.col(\"user_id_index\")).dropDuplicates())"
   ]
  },
  {
   "cell_type": "code",
   "execution_count": 60,
   "metadata": {},
   "outputs": [
    {
     "name": "stdout",
     "output_type": "stream",
     "text": [
      "RMSE=7.239513679565096\n"
     ]
    },
    {
     "data": {
      "text/plain": [
       "DataFrame[user_id_index: int, recommendations: array<struct<song_id_index:int,rating:float>>]"
      ]
     },
     "execution_count": 60,
     "metadata": {},
     "output_type": "execute_result"
    }
   ],
   "source": [
    "evaluator=RegressionEvaluator(metricName=\"rmse\",labelCol=\"plays\",predictionCol=\"prediction\")\n",
    "rmse=evaluator.evaluate(pred)\n",
    "print(\"RMSE=\"+str(rmse))\n",
    "\n",
    "\n",
    "k = 5\n",
    "recommendations = alsModel.recommendForUserSubset(top_users_inTest, 5)\n",
    "recommendations.cache()"
   ]
  },
  {
   "cell_type": "code",
   "execution_count": 61,
   "metadata": {},
   "outputs": [
    {
     "data": {
      "text/html": [
       "<div>\n",
       "<style scoped>\n",
       "    .dataframe tbody tr th:only-of-type {\n",
       "        vertical-align: middle;\n",
       "    }\n",
       "\n",
       "    .dataframe tbody tr th {\n",
       "        vertical-align: top;\n",
       "    }\n",
       "\n",
       "    .dataframe thead th {\n",
       "        text-align: right;\n",
       "    }\n",
       "</style>\n",
       "<table border=\"1\" class=\"dataframe\">\n",
       "  <thead>\n",
       "    <tr style=\"text-align: right;\">\n",
       "      <th></th>\n",
       "      <th>user_id_index</th>\n",
       "      <th>recommendations</th>\n",
       "      <th>relevant</th>\n",
       "      <th>overlap</th>\n",
       "    </tr>\n",
       "  </thead>\n",
       "  <tbody>\n",
       "    <tr>\n",
       "      <th>0</th>\n",
       "      <td>7</td>\n",
       "      <td>[15.0, 46.0, 35.0, 11.0, 44.0]</td>\n",
       "      <td>[2321.0, 111.0, 87.0, 54.0, 53565.0, 20.0, 175...</td>\n",
       "      <td>[46.0, 44.0]</td>\n",
       "    </tr>\n",
       "    <tr>\n",
       "      <th>1</th>\n",
       "      <td>4</td>\n",
       "      <td>[14.0, 13.0, 68.0, 41.0, 215.0]</td>\n",
       "      <td>[3459.0, 421.0, 55.0, 4695.0, 5064.0, 30601.0,...</td>\n",
       "      <td>[]</td>\n",
       "    </tr>\n",
       "    <tr>\n",
       "      <th>2</th>\n",
       "      <td>9</td>\n",
       "      <td>[1.0, 3.0, 10.0, 4.0, 13.0]</td>\n",
       "      <td>[21653.0, 4649.0, 17188.0, 33811.0, 17264.0, 2...</td>\n",
       "      <td>[]</td>\n",
       "    </tr>\n",
       "    <tr>\n",
       "      <th>3</th>\n",
       "      <td>3</td>\n",
       "      <td>[91.0, 45.0, 300.0, 218.0, 246.0]</td>\n",
       "      <td>[276.0, 66.0, 235.0, 135.0, 40955.0, 26356.0, ...</td>\n",
       "      <td>[91.0, 246.0]</td>\n",
       "    </tr>\n",
       "    <tr>\n",
       "      <th>4</th>\n",
       "      <td>11</td>\n",
       "      <td>[15.0, 91.0, 0.0, 99.0, 44.0]</td>\n",
       "      <td>[1604.0, 3445.0, 4274.0, 5167.0, 1035.0, 25762...</td>\n",
       "      <td>[]</td>\n",
       "    </tr>\n",
       "    <tr>\n",
       "      <th>5</th>\n",
       "      <td>12</td>\n",
       "      <td>[210.0, 191.0, 188.0, 15.0, 14.0]</td>\n",
       "      <td>[12139.0, 19337.0, 12.0, 14302.0, 8779.0, 6997...</td>\n",
       "      <td>[]</td>\n",
       "    </tr>\n",
       "    <tr>\n",
       "      <th>6</th>\n",
       "      <td>1</td>\n",
       "      <td>[15.0, 44.0, 45.0, 0.0, 91.0]</td>\n",
       "      <td>[9357.0, 14460.0, 14670.0, 13295.0, 13044.0, 6...</td>\n",
       "      <td>[]</td>\n",
       "    </tr>\n",
       "    <tr>\n",
       "      <th>7</th>\n",
       "      <td>14</td>\n",
       "      <td>[242.0, 294.0, 328.0, 12.0, 117.0]</td>\n",
       "      <td>[7567.0, 4974.0, 7777.0, 27999.0, 9540.0, 4221...</td>\n",
       "      <td>[]</td>\n",
       "    </tr>\n",
       "    <tr>\n",
       "      <th>8</th>\n",
       "      <td>0</td>\n",
       "      <td>[210.0, 11.0, 143.0, 15.0, 242.0]</td>\n",
       "      <td>[49865.0, 48073.0, 45615.0, 44567.0, 40450.0, ...</td>\n",
       "      <td>[242.0]</td>\n",
       "    </tr>\n",
       "    <tr>\n",
       "      <th>9</th>\n",
       "      <td>2</td>\n",
       "      <td>[191.0, 188.0, 71.0, 224.0, 244.0]</td>\n",
       "      <td>[1248.0, 32866.0, 763.0, 718.0, 2895.0, 20921....</td>\n",
       "      <td>[]</td>\n",
       "    </tr>\n",
       "    <tr>\n",
       "      <th>10</th>\n",
       "      <td>6</td>\n",
       "      <td>[1.0, 25.0, 19.0, 23.0, 5.0]</td>\n",
       "      <td>[10001.0, 1080.0, 246.0, 6965.0, 3153.0, 63.0,...</td>\n",
       "      <td>[25.0]</td>\n",
       "    </tr>\n",
       "    <tr>\n",
       "      <th>11</th>\n",
       "      <td>13</td>\n",
       "      <td>[46.0, 1.0, 0.0, 12.0, 18.0]</td>\n",
       "      <td>[50.0, 7.0, 55.0, 105.0, 16.0, 200.0, 101.0, 8...</td>\n",
       "      <td>[]</td>\n",
       "    </tr>\n",
       "    <tr>\n",
       "      <th>12</th>\n",
       "      <td>10</td>\n",
       "      <td>[15.0, 210.0, 14.0, 191.0, 46.0]</td>\n",
       "      <td>[1264.0, 1342.0, 218.0, 184.0, 618.0, 539.0, 2...</td>\n",
       "      <td>[]</td>\n",
       "    </tr>\n",
       "    <tr>\n",
       "      <th>13</th>\n",
       "      <td>5</td>\n",
       "      <td>[14.0, 5.0, 0.0, 1.0, 24.0]</td>\n",
       "      <td>[8282.0, 7241.0, 22152.0, 26.0, 49.0, 467.0, 6...</td>\n",
       "      <td>[0.0]</td>\n",
       "    </tr>\n",
       "    <tr>\n",
       "      <th>14</th>\n",
       "      <td>8</td>\n",
       "      <td>[294.0, 328.0, 242.0, 134.0, 394.0]</td>\n",
       "      <td>[3292.0, 10770.0, 6492.0, 441.0, 8953.0, 6791....</td>\n",
       "      <td>[294.0]</td>\n",
       "    </tr>\n",
       "  </tbody>\n",
       "</table>\n",
       "</div>"
      ],
      "text/plain": [
       "    user_id_index                      recommendations  \\\n",
       "0               7       [15.0, 46.0, 35.0, 11.0, 44.0]   \n",
       "1               4      [14.0, 13.0, 68.0, 41.0, 215.0]   \n",
       "2               9          [1.0, 3.0, 10.0, 4.0, 13.0]   \n",
       "3               3    [91.0, 45.0, 300.0, 218.0, 246.0]   \n",
       "4              11        [15.0, 91.0, 0.0, 99.0, 44.0]   \n",
       "5              12    [210.0, 191.0, 188.0, 15.0, 14.0]   \n",
       "6               1        [15.0, 44.0, 45.0, 0.0, 91.0]   \n",
       "7              14   [242.0, 294.0, 328.0, 12.0, 117.0]   \n",
       "8               0    [210.0, 11.0, 143.0, 15.0, 242.0]   \n",
       "9               2   [191.0, 188.0, 71.0, 224.0, 244.0]   \n",
       "10              6         [1.0, 25.0, 19.0, 23.0, 5.0]   \n",
       "11             13         [46.0, 1.0, 0.0, 12.0, 18.0]   \n",
       "12             10     [15.0, 210.0, 14.0, 191.0, 46.0]   \n",
       "13              5          [14.0, 5.0, 0.0, 1.0, 24.0]   \n",
       "14              8  [294.0, 328.0, 242.0, 134.0, 394.0]   \n",
       "\n",
       "                                             relevant        overlap  \n",
       "0   [2321.0, 111.0, 87.0, 54.0, 53565.0, 20.0, 175...   [46.0, 44.0]  \n",
       "1   [3459.0, 421.0, 55.0, 4695.0, 5064.0, 30601.0,...             []  \n",
       "2   [21653.0, 4649.0, 17188.0, 33811.0, 17264.0, 2...             []  \n",
       "3   [276.0, 66.0, 235.0, 135.0, 40955.0, 26356.0, ...  [91.0, 246.0]  \n",
       "4   [1604.0, 3445.0, 4274.0, 5167.0, 1035.0, 25762...             []  \n",
       "5   [12139.0, 19337.0, 12.0, 14302.0, 8779.0, 6997...             []  \n",
       "6   [9357.0, 14460.0, 14670.0, 13295.0, 13044.0, 6...             []  \n",
       "7   [7567.0, 4974.0, 7777.0, 27999.0, 9540.0, 4221...             []  \n",
       "8   [49865.0, 48073.0, 45615.0, 44567.0, 40450.0, ...        [242.0]  \n",
       "9   [1248.0, 32866.0, 763.0, 718.0, 2895.0, 20921....             []  \n",
       "10  [10001.0, 1080.0, 246.0, 6965.0, 3153.0, 63.0,...         [25.0]  \n",
       "11  [50.0, 7.0, 55.0, 105.0, 16.0, 200.0, 101.0, 8...             []  \n",
       "12  [1264.0, 1342.0, 218.0, 184.0, 618.0, 539.0, 2...             []  \n",
       "13  [8282.0, 7241.0, 22152.0, 26.0, 49.0, 467.0, 6...          [0.0]  \n",
       "14  [3292.0, 10770.0, 6492.0, 441.0, 8953.0, 6791....        [294.0]  "
      ]
     },
     "metadata": {},
     "output_type": "display_data"
    }
   ],
   "source": [
    "# spark is throwing a hissy fit on this lower threshold data so I don't think that's the way to go\n",
    "# perhaps a more intermediate threshold (like 30 or 35) might be more managable, resource wise\n",
    "\n",
    "relevant = (\n",
    "    top_users_inTest\n",
    "    .groupBy(\"user_id_index\")\n",
    "    .agg(\n",
    "        F.reverse(F.sort_array(F.collect_list(\n",
    "            F.struct(\n",
    "                F.col(\"plays\"),\n",
    "                F.col(\"song_id_index\")\n",
    "            )))).alias(\"relevant\")))\n",
    "\n",
    "temp = (\n",
    "    recommendations\n",
    "    .select(\n",
    "        F.col(\"user_id_index\"),\n",
    "        F.col(\"recommendations.song_id_index\").alias(\"recommendations\").astype(ArrayType(DoubleType())),\n",
    "    )\n",
    "    .join(\n",
    "        relevant\n",
    "        .select(\n",
    "            F.col(\"user_id_index\"),\n",
    "            F.col(\"relevant.song_id_index\").alias(\"relevant\").astype(ArrayType(DoubleType())),\n",
    "        ),\n",
    "        on=\"user_id_index\",\n",
    "        how=\"inner\"))\n",
    "\n",
    "temp.cache()\n",
    "\n",
    "# i have so many regrets on this threshold but i'm already in this deep. hindsight and all that\n",
    "\n",
    "common = temp.withColumn(\"overlap\", F.array_intersect(temp.recommendations, temp.relevant))\n",
    "show_as_html(common)"
   ]
  },
  {
   "cell_type": "code",
   "execution_count": 62,
   "metadata": {},
   "outputs": [
    {
     "name": "stdout",
     "output_type": "stream",
     "text": [
      "metrics for implicit feedback\n",
      "\n",
      "precision @ K: 0.05333\n",
      "MAP @ K:       0.02889\n",
      "NDCG @ K:      0.07223\n",
      "\n"
     ]
    }
   ],
   "source": [
    "# Metrics\n",
    "\n",
    "k = 10\n",
    "\n",
    "evaluator = RankingEvaluator(predictionCol=\"recommendations\", labelCol=\"relevant\")\n",
    "\n",
    "precisionAtK = evaluator.evaluate(temp, {evaluator.metricName: \"precisionAtK\",            evaluator.k: k})\n",
    "mapAtK       = evaluator.evaluate(temp, {evaluator.metricName: \"meanAveragePrecisionAtK\", evaluator.k: k})\n",
    "ndcgAtK      = evaluator.evaluate(temp, {evaluator.metricName: \"ndcgAtK\",                 evaluator.k: k})\n",
    "\n",
    "print(f'metrics for implicit feedback')\n",
    "print(f'')\n",
    "print(f'precision @ K: {precisionAtK:.5f}')\n",
    "print(f'MAP @ K:       {mapAtK:.5f}')\n",
    "print(f'NDCG @ K:      {ndcgAtK:.5f}')\n",
    "print(f'')"
   ]
  },
  {
   "cell_type": "markdown",
   "metadata": {},
   "source": [
    "### Same threshold, increased parameters\n",
    "this is the extent of my paitence for trying out other things"
   ]
  },
  {
   "cell_type": "code",
   "execution_count": 63,
   "metadata": {},
   "outputs": [],
   "source": [
    "# increased iterations (5 to 10), regularization increased (0.01 to 0.05) in ALS\n",
    "\n",
    "user_threshold=50 # N\n",
    "song_threshold=50 # M\n",
    "\n",
    "threshold_users_plays = (triplets\n",
    "                         .groupBy(\"user_id\")\n",
    "                         .agg(F.count(\"plays\").alias(\"user_total_plays\"))\n",
    "                         .filter(F.col(\"user_total_plays\")>=user_threshold)\n",
    "                         .join(triplets, on=\"user_id\", how=\"left\"))\n",
    "\n",
    "\n",
    "threshold_data = (threshold_users_plays\n",
    "                  .groupBy(\"song_id\")\n",
    "                  .agg(F.count(\"plays\").alias(\"song_total_plays\"))\n",
    "                  .filter(F.col(\"song_total_plays\")>=song_threshold)\n",
    "                  .join(threshold_users_plays, on=\"song_id\", how=\"left\")\n",
    "                  .drop(\"user_total_plays\", \"song_total_plays\"))\n",
    "\n"
   ]
  },
  {
   "cell_type": "code",
   "execution_count": 64,
   "metadata": {},
   "outputs": [
    {
     "data": {
      "text/plain": [
       "DataFrame[user_id: string, song_id: string, plays: int]"
      ]
     },
     "execution_count": 64,
     "metadata": {},
     "output_type": "execute_result"
    }
   ],
   "source": [
    "training, test_unmatched = threshold_data.randomSplit([0.75, 0.25]) \n",
    "training.cache()\n",
    "test_unmatched.cache()\n",
    "\n",
    "test=test_unmatched.join(training, on=\"user_id\", how=\"left_semi\")\n",
    "test.cache()"
   ]
  },
  {
   "cell_type": "code",
   "execution_count": 65,
   "metadata": {},
   "outputs": [],
   "source": [
    "indexer = [StringIndexer(\n",
    "    inputCol=column, outputCol=column+\"_index\") for column in list(set(training.columns)-set(['plays']))]\n",
    "\n",
    "pipeline = Pipeline(stages=indexer)\n",
    "\n",
    "\n",
    "transformed_training = pipeline.fit(training).transform(training)\n",
    "transformed_test = pipeline.fit(test).transform(test)"
   ]
  },
  {
   "cell_type": "code",
   "execution_count": 66,
   "metadata": {},
   "outputs": [],
   "source": [
    "top_users_inTest = (transformed_test\n",
    "                    .groupBy(\"user_id\")\n",
    "                    .agg(F.count(\"plays\").alias(\"user_total_plays\"))\n",
    "                    .orderBy(F.col(\"user_total_plays\").desc())\n",
    "                    .limit(15)\n",
    "                    .select(F.col(\"user_id\"))\n",
    "                    .join(transformed_test, on=\"user_id\", how=\"left\"))\n",
    "\n",
    "\n",
    "top_user_ids = (top_users_inTest.select(F.col(\"user_id_index\")).dropDuplicates())"
   ]
  },
  {
   "cell_type": "code",
   "execution_count": 68,
   "metadata": {},
   "outputs": [
    {
     "data": {
      "text/plain": [
       "DataFrame[user_id: string, song_id: string, plays: int, user_id_index: double, song_id_index: double, prediction: float]"
      ]
     },
     "execution_count": 68,
     "metadata": {},
     "output_type": "execute_result"
    }
   ],
   "source": [
    "als = ALS(maxIter=15, regParam=0.05, userCol=\"user_id_index\", \n",
    "          itemCol=\"song_id_index\", ratingCol=\"plays\", implicitPrefs=True) # thanks chatgpt (again)\n",
    "\n",
    "alsModel = als.fit(transformed_training)\n",
    "\n",
    "pred = alsModel.transform(transformed_test)\n",
    "pred.cache()"
   ]
  },
  {
   "cell_type": "code",
   "execution_count": 69,
   "metadata": {},
   "outputs": [
    {
     "data": {
      "text/plain": [
       "DataFrame[user_id_index: int, recommendations: array<struct<song_id_index:int,rating:float>>]"
      ]
     },
     "execution_count": 69,
     "metadata": {},
     "output_type": "execute_result"
    }
   ],
   "source": [
    "k = 5\n",
    "recommendations = alsModel.recommendForUserSubset(top_users_inTest, 10)\n",
    "recommendations.cache()"
   ]
  },
  {
   "cell_type": "code",
   "execution_count": 70,
   "metadata": {},
   "outputs": [
    {
     "data": {
      "text/html": [
       "<div>\n",
       "<style scoped>\n",
       "    .dataframe tbody tr th:only-of-type {\n",
       "        vertical-align: middle;\n",
       "    }\n",
       "\n",
       "    .dataframe tbody tr th {\n",
       "        vertical-align: top;\n",
       "    }\n",
       "\n",
       "    .dataframe thead th {\n",
       "        text-align: right;\n",
       "    }\n",
       "</style>\n",
       "<table border=\"1\" class=\"dataframe\">\n",
       "  <thead>\n",
       "    <tr style=\"text-align: right;\">\n",
       "      <th></th>\n",
       "      <th>user_id_index</th>\n",
       "      <th>recommendations</th>\n",
       "      <th>relevant</th>\n",
       "      <th>overlap</th>\n",
       "    </tr>\n",
       "  </thead>\n",
       "  <tbody>\n",
       "    <tr>\n",
       "      <th>0</th>\n",
       "      <td>7</td>\n",
       "      <td>[212.0, 393.0, 324.0, 136.0, 42.0, 311.0, 293....</td>\n",
       "      <td>[2683.0, 2.0, 18998.0, 16.0, 3.0, 44372.0, 402...</td>\n",
       "      <td>[212.0]</td>\n",
       "    </tr>\n",
       "    <tr>\n",
       "      <th>1</th>\n",
       "      <td>4</td>\n",
       "      <td>[24.0, 1.0, 22.0, 23.0, 12.0, 15.0, 29.0, 62.0...</td>\n",
       "      <td>[577.0, 5019.0, 1395.0, 1161.0, 22071.0, 1084....</td>\n",
       "      <td>[24.0, 23.0]</td>\n",
       "    </tr>\n",
       "    <tr>\n",
       "      <th>2</th>\n",
       "      <td>9</td>\n",
       "      <td>[14.0, 0.0, 3.0, 45.0, 5.0, 33.0, 10.0, 67.0, ...</td>\n",
       "      <td>[27207.0, 35332.0, 5209.0, 11315.0, 908.0, 63....</td>\n",
       "      <td>[]</td>\n",
       "    </tr>\n",
       "    <tr>\n",
       "      <th>3</th>\n",
       "      <td>3</td>\n",
       "      <td>[14.0, 203.0, 45.0, 98.0, 0.0, 353.0, 315.0, 1...</td>\n",
       "      <td>[3356.0, 14240.0, 20550.0, 12934.0, 51045.0, 4...</td>\n",
       "      <td>[]</td>\n",
       "    </tr>\n",
       "    <tr>\n",
       "      <th>4</th>\n",
       "      <td>11</td>\n",
       "      <td>[122.0, 3.0, 206.0, 185.0, 1.0, 342.0, 221.0, ...</td>\n",
       "      <td>[73640.0, 38562.0, 13886.0, 59866.0, 23884.0, ...</td>\n",
       "      <td>[]</td>\n",
       "    </tr>\n",
       "    <tr>\n",
       "      <th>5</th>\n",
       "      <td>12</td>\n",
       "      <td>[212.0, 311.0, 393.0, 293.0, 2526.0, 68.0, 111...</td>\n",
       "      <td>[2003.0, 2784.0, 11538.0, 6075.0, 16167.0, 776...</td>\n",
       "      <td>[68.0]</td>\n",
       "    </tr>\n",
       "    <tr>\n",
       "      <th>6</th>\n",
       "      <td>1</td>\n",
       "      <td>[14.0, 45.0, 203.0, 0.0, 98.0, 48.0, 100.0, 33...</td>\n",
       "      <td>[1450.0, 7617.0, 14399.0, 2045.0, 1067.0, 5590...</td>\n",
       "      <td>[14.0, 45.0]</td>\n",
       "    </tr>\n",
       "    <tr>\n",
       "      <th>7</th>\n",
       "      <td>14</td>\n",
       "      <td>[52.0, 86.0, 191.0, 67.0, 138.0, 229.0, 227.0,...</td>\n",
       "      <td>[1639.0, 10030.0, 9072.0, 5191.0, 1387.0, 5592...</td>\n",
       "      <td>[67.0]</td>\n",
       "    </tr>\n",
       "    <tr>\n",
       "      <th>8</th>\n",
       "      <td>0</td>\n",
       "      <td>[138.0, 347.0, 67.0, 151.0, 212.0, 14.0, 248.0...</td>\n",
       "      <td>[65570.0, 60719.0, 50527.0, 45821.0, 41309.0, ...</td>\n",
       "      <td>[]</td>\n",
       "    </tr>\n",
       "    <tr>\n",
       "      <th>9</th>\n",
       "      <td>2</td>\n",
       "      <td>[16.0, 66.0, 324.0, 210.0, 136.0, 29.0, 24.0, ...</td>\n",
       "      <td>[8128.0, 3318.0, 1608.0, 19.0, 3313.0, 643.0, ...</td>\n",
       "      <td>[16.0]</td>\n",
       "    </tr>\n",
       "    <tr>\n",
       "      <th>10</th>\n",
       "      <td>6</td>\n",
       "      <td>[1.0, 0.0, 16.0, 24.0, 15.0, 14.0, 12.0, 8.0, ...</td>\n",
       "      <td>[1314.0, 14942.0, 7743.0, 2864.0, 3118.0, 350....</td>\n",
       "      <td>[15.0, 8.0]</td>\n",
       "    </tr>\n",
       "    <tr>\n",
       "      <th>11</th>\n",
       "      <td>13</td>\n",
       "      <td>[9.0, 46.0, 32.0, 187.0, 2526.0, 212.0, 68.0, ...</td>\n",
       "      <td>[320.0, 29705.0, 13640.0, 27.0, 516.0, 20120.0...</td>\n",
       "      <td>[32.0, 68.0]</td>\n",
       "    </tr>\n",
       "    <tr>\n",
       "      <th>12</th>\n",
       "      <td>10</td>\n",
       "      <td>[16.0, 33.0, 42.0, 204.0, 212.0, 75.0, 143.0, ...</td>\n",
       "      <td>[1875.0, 1039.0, 247.0, 549.0, 3629.0, 52.0, 5...</td>\n",
       "      <td>[]</td>\n",
       "    </tr>\n",
       "    <tr>\n",
       "      <th>13</th>\n",
       "      <td>5</td>\n",
       "      <td>[204.0, 202.0, 1.0, 75.0, 230.0, 250.0, 245.0,...</td>\n",
       "      <td>[33723.0, 860.0, 60783.0, 9213.0, 7213.0, 292....</td>\n",
       "      <td>[75.0, 250.0, 203.0, 16.0]</td>\n",
       "    </tr>\n",
       "    <tr>\n",
       "      <th>14</th>\n",
       "      <td>8</td>\n",
       "      <td>[46.0, 0.0, 14.0, 1.0, 3.0, 10.0, 2.0, 9.0, 18...</td>\n",
       "      <td>[3790.0, 3203.0, 1946.0, 934.0, 29239.0, 38662...</td>\n",
       "      <td>[]</td>\n",
       "    </tr>\n",
       "  </tbody>\n",
       "</table>\n",
       "</div>"
      ],
      "text/plain": [
       "    user_id_index                                    recommendations  \\\n",
       "0               7  [212.0, 393.0, 324.0, 136.0, 42.0, 311.0, 293....   \n",
       "1               4  [24.0, 1.0, 22.0, 23.0, 12.0, 15.0, 29.0, 62.0...   \n",
       "2               9  [14.0, 0.0, 3.0, 45.0, 5.0, 33.0, 10.0, 67.0, ...   \n",
       "3               3  [14.0, 203.0, 45.0, 98.0, 0.0, 353.0, 315.0, 1...   \n",
       "4              11  [122.0, 3.0, 206.0, 185.0, 1.0, 342.0, 221.0, ...   \n",
       "5              12  [212.0, 311.0, 393.0, 293.0, 2526.0, 68.0, 111...   \n",
       "6               1  [14.0, 45.0, 203.0, 0.0, 98.0, 48.0, 100.0, 33...   \n",
       "7              14  [52.0, 86.0, 191.0, 67.0, 138.0, 229.0, 227.0,...   \n",
       "8               0  [138.0, 347.0, 67.0, 151.0, 212.0, 14.0, 248.0...   \n",
       "9               2  [16.0, 66.0, 324.0, 210.0, 136.0, 29.0, 24.0, ...   \n",
       "10              6  [1.0, 0.0, 16.0, 24.0, 15.0, 14.0, 12.0, 8.0, ...   \n",
       "11             13  [9.0, 46.0, 32.0, 187.0, 2526.0, 212.0, 68.0, ...   \n",
       "12             10  [16.0, 33.0, 42.0, 204.0, 212.0, 75.0, 143.0, ...   \n",
       "13              5  [204.0, 202.0, 1.0, 75.0, 230.0, 250.0, 245.0,...   \n",
       "14              8  [46.0, 0.0, 14.0, 1.0, 3.0, 10.0, 2.0, 9.0, 18...   \n",
       "\n",
       "                                             relevant  \\\n",
       "0   [2683.0, 2.0, 18998.0, 16.0, 3.0, 44372.0, 402...   \n",
       "1   [577.0, 5019.0, 1395.0, 1161.0, 22071.0, 1084....   \n",
       "2   [27207.0, 35332.0, 5209.0, 11315.0, 908.0, 63....   \n",
       "3   [3356.0, 14240.0, 20550.0, 12934.0, 51045.0, 4...   \n",
       "4   [73640.0, 38562.0, 13886.0, 59866.0, 23884.0, ...   \n",
       "5   [2003.0, 2784.0, 11538.0, 6075.0, 16167.0, 776...   \n",
       "6   [1450.0, 7617.0, 14399.0, 2045.0, 1067.0, 5590...   \n",
       "7   [1639.0, 10030.0, 9072.0, 5191.0, 1387.0, 5592...   \n",
       "8   [65570.0, 60719.0, 50527.0, 45821.0, 41309.0, ...   \n",
       "9   [8128.0, 3318.0, 1608.0, 19.0, 3313.0, 643.0, ...   \n",
       "10  [1314.0, 14942.0, 7743.0, 2864.0, 3118.0, 350....   \n",
       "11  [320.0, 29705.0, 13640.0, 27.0, 516.0, 20120.0...   \n",
       "12  [1875.0, 1039.0, 247.0, 549.0, 3629.0, 52.0, 5...   \n",
       "13  [33723.0, 860.0, 60783.0, 9213.0, 7213.0, 292....   \n",
       "14  [3790.0, 3203.0, 1946.0, 934.0, 29239.0, 38662...   \n",
       "\n",
       "                       overlap  \n",
       "0                      [212.0]  \n",
       "1                 [24.0, 23.0]  \n",
       "2                           []  \n",
       "3                           []  \n",
       "4                           []  \n",
       "5                       [68.0]  \n",
       "6                 [14.0, 45.0]  \n",
       "7                       [67.0]  \n",
       "8                           []  \n",
       "9                       [16.0]  \n",
       "10                 [15.0, 8.0]  \n",
       "11                [32.0, 68.0]  \n",
       "12                          []  \n",
       "13  [75.0, 250.0, 203.0, 16.0]  \n",
       "14                          []  "
      ]
     },
     "metadata": {},
     "output_type": "display_data"
    }
   ],
   "source": [
    "relevant = (\n",
    "    top_users_inTest\n",
    "    .groupBy(\"user_id_index\")\n",
    "    .agg(\n",
    "        F.reverse(F.sort_array(F.collect_list(\n",
    "            F.struct(\n",
    "                F.col(\"plays\"),\n",
    "                F.col(\"song_id_index\")\n",
    "            )))).alias(\"relevant\")))\n",
    "\n",
    "temp = (\n",
    "    recommendations\n",
    "    .select(\n",
    "        F.col(\"user_id_index\"),\n",
    "        F.col(\"recommendations.song_id_index\").alias(\"recommendations\").astype(ArrayType(DoubleType())),\n",
    "    )\n",
    "    .join(\n",
    "        relevant\n",
    "        .select(\n",
    "            F.col(\"user_id_index\"),\n",
    "            F.col(\"relevant.song_id_index\").alias(\"relevant\").astype(ArrayType(DoubleType())),\n",
    "        ),\n",
    "        on=\"user_id_index\",\n",
    "        how=\"inner\"))\n",
    "\n",
    "temp.cache()\n",
    "\n",
    "\n",
    "common = temp.withColumn(\"overlap\", F.array_intersect(temp.recommendations, temp.relevant))\n",
    "show_as_html(common)"
   ]
  },
  {
   "cell_type": "code",
   "execution_count": 71,
   "metadata": {},
   "outputs": [
    {
     "name": "stdout",
     "output_type": "stream",
     "text": [
      "metrics for implicit feedback\n",
      "\n",
      "precision @ K: 0.10667\n",
      "MAP @ K:       0.05563\n",
      "NDCG @ K:      0.12876\n",
      "\n"
     ]
    }
   ],
   "source": [
    "# Metrics\n",
    "\n",
    "k = 10\n",
    "\n",
    "evaluator = RankingEvaluator(predictionCol=\"recommendations\", labelCol=\"relevant\")\n",
    "\n",
    "precisionAtK = evaluator.evaluate(temp, {evaluator.metricName: \"precisionAtK\",            evaluator.k: k})\n",
    "mapAtK       = evaluator.evaluate(temp, {evaluator.metricName: \"meanAveragePrecisionAtK\", evaluator.k: k})\n",
    "ndcgAtK      = evaluator.evaluate(temp, {evaluator.metricName: \"ndcgAtK\",                 evaluator.k: k})\n",
    "\n",
    "print(f'metrics for implicit feedback')\n",
    "print(f'')\n",
    "print(f'precision @ K: {precisionAtK:.5f}')\n",
    "print(f'MAP @ K:       {mapAtK:.5f}')\n",
    "print(f'NDCG @ K:      {ndcgAtK:.5f}')\n",
    "print(f'')"
   ]
  },
  {
   "cell_type": "code",
   "execution_count": null,
   "metadata": {},
   "outputs": [],
   "source": []
  },
  {
   "cell_type": "markdown",
   "metadata": {},
   "source": [
    "like i dont even think i can subset the data more than just the threshold because the relationships are what's important and you lose the relationships if you subset so i dont know how to be more efficent in just ~testing out~ parameters *god im hungry*"
   ]
  },
  {
   "cell_type": "code",
   "execution_count": 72,
   "metadata": {},
   "outputs": [
    {
     "data": {
      "text/html": [
       "<p><b>Spark</b></p><p>The spark session is <b><span style=\"color:red\">stopped</span></b>, confirm that <code>mda205 (jupyter)</code> is under the completed applications section in the Spark UI.</p><ul><li><a href=\"http://mathmadslinux2p.canterbury.ac.nz:8080/\" target=\"_blank\">Spark UI</a></li></ul>"
      ],
      "text/plain": [
       "<IPython.core.display.HTML object>"
      ]
     },
     "metadata": {},
     "output_type": "display_data"
    }
   ],
   "source": [
    "# Run this cell before closing the notebook or kill your spark application by hand using the link in the Spark UI\n",
    "\n",
    "stop_spark()"
   ]
  },
  {
   "cell_type": "markdown",
   "metadata": {},
   "source": [
    "### a very angry cross validation attempt\n",
    "and apparently this can give the best parameters to tune. dont ask me to elaborate\n",
    "##### if you go through this section you will get to see my slow but inevital descend into madness in text form"
   ]
  },
  {
   "cell_type": "code",
   "execution_count": null,
   "metadata": {},
   "outputs": [],
   "source": [
    "# threshold is the same, parameters and....stuff are messed with with cross validator\n",
    "\n",
    "user_threshold=50 # N\n",
    "song_threshold=50 # M\n",
    "\n",
    "threshold_users_plays = (triplets\n",
    "                         .groupBy(\"user_id\")\n",
    "                         .agg(F.count(\"plays\").alias(\"user_total_plays\"))\n",
    "                         .filter(F.col(\"user_total_plays\")>=user_threshold)\n",
    "                         .join(triplets, on=\"user_id\", how=\"left\"))\n",
    "\n",
    "\n",
    "threshold_data = (threshold_users_plays\n",
    "                  .groupBy(\"song_id\")\n",
    "                  .agg(F.count(\"plays\").alias(\"song_total_plays\"))\n",
    "                  .filter(F.col(\"song_total_plays\")>=song_threshold)\n",
    "                  .join(threshold_users_plays, on=\"song_id\", how=\"left\")\n",
    "                  .drop(\"user_total_plays\", \"song_total_plays\"))\n",
    "\n"
   ]
  },
  {
   "cell_type": "code",
   "execution_count": null,
   "metadata": {},
   "outputs": [],
   "source": [
    "training, test_unmatched = threshold_data.randomSplit([0.75, 0.25]) \n",
    "training.cache()\n",
    "test_unmatched.cache()\n",
    "\n",
    "test=test_unmatched.join(training, on=\"user_id\", how=\"left_semi\")\n",
    "test.cache()"
   ]
  },
  {
   "cell_type": "code",
   "execution_count": null,
   "metadata": {},
   "outputs": [],
   "source": [
    "indexer = [StringIndexer(\n",
    "    inputCol=column, outputCol=column+\"_index\") for column in list(set(training.columns)-set(['plays']))]\n",
    "\n",
    "pipeline = Pipeline(stages=indexer)\n",
    "\n",
    "\n",
    "transformed_training = pipeline.fit(training).transform(training)\n",
    "transformed_test = pipeline.fit(test).transform(test)"
   ]
  },
  {
   "cell_type": "code",
   "execution_count": null,
   "metadata": {},
   "outputs": [],
   "source": [
    "top_users_inTest = (transformed_test\n",
    "                    .groupBy(\"user_id\")\n",
    "                    .agg(F.count(\"plays\").alias(\"user_total_plays\"))\n",
    "                    .orderBy(F.col(\"user_total_plays\").desc())\n",
    "                    .limit(15)\n",
    "                    .select(F.col(\"user_id\"))\n",
    "                    .join(transformed_test, on=\"user_id\", how=\"left\"))\n",
    "\n",
    "\n",
    "top_user_ids = (top_users_inTest.select(F.col(\"user_id_index\")).dropDuplicates())"
   ]
  },
  {
   "cell_type": "code",
   "execution_count": null,
   "metadata": {},
   "outputs": [],
   "source": [
    "from pyspark.ml.tuning import ParamGridBuilder, TrainValidationSplit"
   ]
  },
  {
   "cell_type": "code",
   "execution_count": null,
   "metadata": {},
   "outputs": [],
   "source": [
    "# initialize the ALS model\n",
    "als_model = ALS(userCol='user_id_index', itemCol='song_id_index', ratingCol='plays', implicitPrefs=True)\n",
    "\n",
    "# create the parameter grid\n",
    "params = ParamGridBuilder().addGrid(als_model.regParam, [.01, .05, .1, .15]).addGrid(als_model.rank, [10, 50, 100, 150]).build()\n",
    "\n",
    "#instantiating crossvalidator estimator\n",
    "\n",
    "cv = CrossValidator(estimator=als_model, estimatorParamMaps=params, evaluator=evaluator, parallelism=4)\n",
    "\n",
    "best_model = cv.fit(movie_ratings)\n",
    "\n",
    "model = best_model.bestModel\n",
    "\n",
    "\n",
    "\n",
    "# Create ALS estimator\n",
    "als = ALS(userCol=\"user_id_index\", itemCol=\"song_id_index\", ratingCol=\"plays\", implicitPrefs=True)\n",
    "\n",
    "# Define the evaluator\n",
    "evaluator = RegressionEvaluator(predictionCol=\"prediction\", labelCol=\"plays\", metricName=\"rmse\")\n",
    "\n",
    "\n",
    "# Define the parameter grid\n",
    "paramGrid = ParamGridBuilder() \\\n",
    "    .addGrid(als.rank, [10, 20, 30]) \\\n",
    "    .addGrid(als.regParam, [0.01, 0.05, 0.1]) \\\n",
    "    .build()\n",
    "\n",
    "# Create ALS model and fit it on the training data\n",
    "alsModel = als.fit(transformed_training)\n",
    "\n",
    "# Create TrainValidationSplit\n",
    "tvs = TrainValidationSplit(estimator=als,\n",
    "                           estimatorParamMaps=paramGrid,\n",
    "                           evaluator=evaluator,\n",
    "                           trainRatio=0.8)"
   ]
  },
  {
   "cell_type": "markdown",
   "metadata": {},
   "source": [
    "I know i shouldnt be ADMITING that i have no idea what im doing but "
   ]
  },
  {
   "cell_type": "code",
   "execution_count": null,
   "metadata": {},
   "outputs": [],
   "source": [
    "# Run train validation split\n",
    "tvsModel = tvs.fit(transformed_training)"
   ]
  },
  {
   "cell_type": "code",
   "execution_count": null,
   "metadata": {},
   "outputs": [],
   "source": [
    "# Get the best model from the train validation split\n",
    "bestModel = tvsModel.bestModel"
   ]
  },
  {
   "cell_type": "code",
   "execution_count": null,
   "metadata": {},
   "outputs": [],
   "source": []
  },
  {
   "cell_type": "code",
   "execution_count": null,
   "metadata": {},
   "outputs": [],
   "source": [
    "als = ALS(userCol=\"user_id_index\", itemCol=\"song_id_index\", ratingCol=\"plays\", implicitPrefs=True)\n",
    "\n",
    "alsModel = als.fit(transformed_training)\n",
    "\n",
    "pred = alsModel.transform(transformed_test)\n",
    "pred.cache()\n",
    "\n",
    "# Define the evaluator\n",
    "evaluator = RankingEvaluator(predictionCol=\"prediction\", labelCol=\"plays\", metricName=\"ndcgAtK\")\n"
   ]
  },
  {
   "cell_type": "code",
   "execution_count": null,
   "metadata": {},
   "outputs": [],
   "source": [
    "\n",
    "# Define the parameter grid\n",
    "paramGrid = ParamGridBuilder() \\\n",
    "    .addGrid(als.rank, [10, 20, 30]) \\\n",
    "    .addGrid(als.regParam, [0.01, 0.05, 0.1]) \\\n",
    "    .build()\n",
    "\n",
    "# Create cross-validator\n",
    "crossval = CrossValidator(estimator=als,\n",
    "                          estimatorParamMaps=paramGrid,\n",
    "                          evaluator=evaluator,\n",
    "                          numFolds=3)"
   ]
  },
  {
   "cell_type": "code",
   "execution_count": null,
   "metadata": {},
   "outputs": [],
   "source": [
    "# Run cross-validation\n",
    "cvModel = crossval.fit(transformed_training)"
   ]
  },
  {
   "cell_type": "code",
   "execution_count": null,
   "metadata": {},
   "outputs": [],
   "source": [
    "evaluator = RegressionEvaluator(metricName='ndcgAtK', labelCol='plays', predictionCol='prediction')\n",
    "\n",
    "als_model = ALS(userCol='user_id_index', itemCol='song_id_index', ratingCol='plays', implicitPrefs=True)\n",
    "\n",
    "params = ParamGridBuilder().addGrid(als_model.regParam, [.01, .05, .1, .15]).addGrid(als_model.rank, [10, 50, 100, 150]).build()\n",
    "\n",
    "cv = CrossValidator(estimator=als_model, estimatorParamMaps=params, evaluator=evaluator, parallelism=4)"
   ]
  },
  {
   "cell_type": "code",
   "execution_count": null,
   "metadata": {},
   "outputs": [],
   "source": [
    "best_model = cv.fit(transformed_training)"
   ]
  },
  {
   "cell_type": "markdown",
   "metadata": {},
   "source": [
    "i fucking quit. i dont care about cross validation it can shove it"
   ]
  },
  {
   "cell_type": "code",
   "execution_count": null,
   "metadata": {},
   "outputs": [],
   "source": [
    "# this is (almost) completely from chatgpt and yes i know i probably should know how to do it myself but i simply dont\n",
    "# chatgpt was definitely wrong/missing some things so i fixed/filled in with the excersise 4 example\n",
    "\n",
    "\n",
    "# evaluator = RankingEvaluator(\n",
    "#     predictionCol=\"prediction\",\n",
    "#     labelCol=\"plays\",\n",
    "#     metricName=\"ndcgAtK\",\n",
    "#     k=10)\n",
    "\n",
    "\n",
    "# als = ALS(maxIter=5, regParam=0.01, userCol=\"user_id_index\", \n",
    "#           itemCol=\"song_id_index\", ratingCol=\"plays\", implicitPrefs=True)\n",
    "\n",
    "# model=als.fit(transformed_training)\n",
    "# predictions = model.transform(transformed_test)\n",
    "\n",
    "# evaluator = RegressionEvaluator(metricName='ndcgAtK', labelCol='plays', predictionCol='prediction')\n",
    "\n",
    "# als_model = ALS(userCol='user_id_index', itemCol='song_id_index', ratingCol='plays', implicitPrefs=True)\n",
    "\n",
    "# params = ParamGridBuilder().addGrid(als_model.regParam, [.01, .05, .1, .15]).addGrid(als_model.rank, [10, 50, 100, 150]).build()\n",
    "\n",
    "# cv = CrossValidator(estimator=als_model, estimatorParamMaps=params, evaluator=evaluator, parallelism=4)\n",
    "\n",
    "best_model = cv.fit(transformed_training)\n",
    "\n",
    "model = best_model.bestModel\n",
    "\n",
    "predictions = model.transform(transformed_test)\n",
    "\n",
    "evaluator = MulticlassClassificationEvaluator(predictionCol=\"prediction\")\n",
    "evaluator.evaluate(predictions)\n",
    "\n",
    "\n",
    "# # Define the parameter grid\n",
    "# paramGrid = ParamGridBuilder() \\\n",
    "#     .addGrid(als.rank, [10, 20, 30]) \\\n",
    "#     .addGrid(als.regParam, [0.01, 0.05, 0.1]) \\\n",
    "#     .build()\n",
    "\n",
    "\n",
    "# cv = CrossValidator(estimator=als, \\\n",
    "#                     estimatorParamMaps=paramGrid, \\\n",
    "#                     evaluator=evaluator, \\\n",
    "#                     numFolds=5)\n",
    "\n",
    "# cvModel = cv.fit(transformed_training)\n",
    "\n",
    "# predictions = cvModel.transform(transformed_test)\n",
    "\n",
    "\n",
    "# # Create cross-validator\n",
    "# crossval = CrossValidator(estimator=als,\n",
    "#                           estimatorParamMaps=paramGrid,\n",
    "#                           evaluator=evaluator,\n",
    "#                           numFolds=3)\n",
    "\n",
    "# # Run cross-validation\n",
    "# cvModel = crossval.fit(transformed_test)\n",
    "\n",
    "# Get the best model\n",
    "bestModel = cvModel.bestModel\n",
    "\n",
    "# Make predictions using the best model\n",
    "pred = bestModel.transform(transformed_test)\n",
    "pred.cache()\n",
    "\n",
    "# Evaluate the predictions\n",
    "rmse = evaluator.evaluate(pred)\n",
    "print(\"RMSE =\", rmse)\n",
    "\n",
    "# Get the best model's parameters\n",
    "bestRank = bestModel.rank\n",
    "bestRegParam = bestModel.regParam\n",
    "\n",
    "print(\"Best Model:\")\n",
    "print(\"Rank =\", bestRank)\n",
    "print(\"RegParam =\", bestRegParam)\n",
    "# wake me up when this is done running. or when september ends. whichever comes first"
   ]
  },
  {
   "cell_type": "code",
   "execution_count": null,
   "metadata": {},
   "outputs": [],
   "source": [
    "# back to our regularly scheduled programming (he-he programming, which this technically isnt but still seems funny to me)\n",
    "\n",
    "k = 5\n",
    "recommendations = bestModel.recommendForUserSubset(top_users_inTest, 5)\n",
    "recommendations.cache()"
   ]
  },
  {
   "cell_type": "code",
   "execution_count": null,
   "metadata": {},
   "outputs": [],
   "source": [
    "relevant = (\n",
    "    top_users_inTest\n",
    "    .groupBy(\"user_id_index\")\n",
    "    .agg(\n",
    "        F.reverse(F.sort_array(F.collect_list(\n",
    "            F.struct(\n",
    "                F.col(\"plays\"),\n",
    "                F.col(\"song_id_index\")\n",
    "            )))).alias(\"relevant\")))\n",
    "\n",
    "temp = (\n",
    "    recommendations\n",
    "    .select(\n",
    "        F.col(\"user_id_index\"),\n",
    "        F.col(\"recommendations.song_id_index\").alias(\"recommendations\").astype(ArrayType(DoubleType())),\n",
    "    )\n",
    "    .join(\n",
    "        relevant\n",
    "        .select(\n",
    "            F.col(\"user_id_index\"),\n",
    "            F.col(\"relevant.song_id_index\").alias(\"relevant\").astype(ArrayType(DoubleType())),\n",
    "        ),\n",
    "        on=\"user_id_index\",\n",
    "        how=\"inner\"))\n",
    "\n",
    "temp.cache()\n",
    "\n",
    "\n",
    "common = temp.withColumn(\"overlap\", F.array_intersect(temp.recommendations, temp.relevant))\n",
    "common.show()"
   ]
  },
  {
   "cell_type": "code",
   "execution_count": null,
   "metadata": {},
   "outputs": [],
   "source": [
    "# Metrics\n",
    "\n",
    "k = 10\n",
    "\n",
    "evaluator = RankingEvaluator(predictionCol=\"recommendations\", labelCol=\"relevant\")\n",
    "\n",
    "precisionAtK = evaluator.evaluate(temp, {evaluator.metricName: \"precisionAtK\",            evaluator.k: k})\n",
    "mapAtK       = evaluator.evaluate(temp, {evaluator.metricName: \"meanAveragePrecisionAtK\", evaluator.k: k})\n",
    "ndcgAtK      = evaluator.evaluate(temp, {evaluator.metricName: \"ndcgAtK\",                 evaluator.k: k})\n",
    "\n",
    "print(f'metrics for implicit feedback')\n",
    "print(f'')\n",
    "print(f'precision @ K: {precisionAtK:.5f}')\n",
    "print(f'MAP @ K:       {mapAtK:.5f}')\n",
    "print(f'NDCG @ K:      {ndcgAtK:.5f}')\n",
    "print(f'')\n",
    "# yes you are witnessing my slow but inevital descend into madness in text form"
   ]
  }
 ],
 "metadata": {
  "kernelspec": {
   "display_name": "Python 3",
   "language": "python",
   "name": "python3"
  },
  "language_info": {
   "codemirror_mode": {
    "name": "ipython",
    "version": 3
   },
   "file_extension": ".py",
   "mimetype": "text/x-python",
   "name": "python",
   "nbconvert_exporter": "python",
   "pygments_lexer": "ipython3",
   "version": "3.7.0"
  }
 },
 "nbformat": 4,
 "nbformat_minor": 2
}
